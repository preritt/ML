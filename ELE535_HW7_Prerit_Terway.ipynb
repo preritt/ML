{
 "cells": [
  {
   "cell_type": "markdown",
   "metadata": {},
   "source": [
    "# ELE 435/535 Computational Lab 7"
   ]
  },
  {
   "cell_type": "code",
   "execution_count": 2,
   "metadata": {},
   "outputs": [],
   "source": [
    "import numpy as np\n",
    "import matplotlib.pyplot as plt\n",
    "\n",
    "%matplotlib inline"
   ]
  },
  {
   "cell_type": "markdown",
   "metadata": {},
   "source": [
    "### Load MNIST Dataset "
   ]
  },
  {
   "cell_type": "markdown",
   "metadata": {},
   "source": [
    "We will be working with the subset of MNIST that was used for HW1 in this HW. The training data contains 10,000 samples of different digits. Let's call it matrix D (of dimension 784 * 10000). The first 1000 columns of D correspond to digit 0 ($D_0$), the next 1000 correspond to digit 1 ($D_1$), etc. "
   ]
  },
  {
   "cell_type": "code",
   "execution_count": 119,
   "metadata": {},
   "outputs": [],
   "source": [
    "train_data = np.load('MNISTcwtrain1000.npy')\n",
    "train_data = train_data.astype(dtype='float64')\n",
    "test_data = np.load('MNISTcwtest100.npy')\n",
    "test_data = test_data.astype(dtype='float64')\n",
    "\n",
    "train_data = train_data/255.0\n",
    "test_data = test_data/255.0"
   ]
  },
  {
   "cell_type": "code",
   "execution_count": 4,
   "metadata": {},
   "outputs": [
    {
     "data": {
      "text/plain": [
       "(784, 10000)"
      ]
     },
     "execution_count": 4,
     "metadata": {},
     "output_type": "execute_result"
    }
   ],
   "source": [
    "train_data.shape"
   ]
  },
  {
   "cell_type": "code",
   "execution_count": 5,
   "metadata": {},
   "outputs": [
    {
     "data": {
      "text/plain": [
       "(784, 1000)"
      ]
     },
     "execution_count": 5,
     "metadata": {},
     "output_type": "execute_result"
    }
   ],
   "source": [
    "test_data.shape"
   ]
  },
  {
   "cell_type": "markdown",
   "metadata": {},
   "source": [
    "### Q1) Collaborative Representation Based Classification Using Lasso"
   ]
  },
  {
   "cell_type": "markdown",
   "metadata": {},
   "source": [
    "In HW4, we used least square regression for classifiying data. Given any new example (x), we would like to represent it as a linear combination of columns of D (hence, the name representation based classification). This can be acheived by finding a vector w (of dimension 1,000) that satisfies: $w = \\arg\\min \\hspace{1mm} \\|Dw - x \\|_2$.\n",
    "\n",
    "The first 100 elements of w ($w_0$) quantify how much of each column from digit 0 are needed to represent x. Similarly, the next 100 elements ($w_1$) correspond to weights on $D_1$, etc.\n",
    "\n",
    "Next, prediction of pixel values of any test image (x) based only on examples of a particual digit $i$ can be found using $y_i' = D_i \\times w_i$. Then, k-th digit that yields the lowest mean squared prediction error (i.e., $k = \\arg\\min \\hspace{1mm} \\|y -y'_i \\|_2$) will determine the label of x. \n",
    "\n",
    "Following this procedure to predict the labels of each test example, the testing accuracy is 0.76."
   ]
  },
  {
   "cell_type": "markdown",
   "metadata": {},
   "source": [
    "#### * Use reduced training set ($Xr$) and test set ($test$) defined below. This will save the running time."
   ]
  },
  {
   "cell_type": "code",
   "execution_count": 120,
   "metadata": {},
   "outputs": [],
   "source": [
    "Xr=np.zeros((784,1000))\n",
    "test=np.zeros((784,100))\n",
    "for ind in range(10):\n",
    "    Xr[:,100*ind:100*(ind+1)] = train_data[:,1000*ind:1000*ind+100]\n",
    "    test[:,10*ind:10*(ind+1)] = test_data[:,100*ind:100*ind+10]"
   ]
  },
  {
   "cell_type": "code",
   "execution_count": 121,
   "metadata": {},
   "outputs": [
    {
     "name": "stdout",
     "output_type": "stream",
     "text": [
      "Test Accuacy :::::: 0.76\n"
     ]
    }
   ],
   "source": [
    "# least square\n",
    "X = np.matrix(Xr)\n",
    "[U,sigma,V] = np.linalg.svd( X, full_matrices=False)\n",
    "index = np.where(sigma>1e-4)\n",
    "trunc = index[0][-1]\n",
    "INV_Mat = np.linalg.pinv(np.dot(X.T,X))\n",
    "Projection_Mat = INV_Mat * (X.T) \n",
    "predicted_label = np.zeros((100,))\n",
    "for i in range(0,100):\n",
    "    test_ex = np.matrix(test[:,i]).T\n",
    "    p = Projection_Mat * test_ex\n",
    "    dist = np.zeros((10,))\n",
    "    for j in range(0,10):\n",
    "        sub_mat = X[:,j*100:(j+1)*100]\n",
    "        sub_W = p[j*100:(j+1)*100]\n",
    "        reconstructed = np.dot(sub_mat, sub_W)\n",
    "        dist[j] = np.linalg.norm(reconstructed - test_ex)\n",
    "    predicted_label[i] = np.argmin(dist)\n",
    "true_label = np.zeros((100,))\n",
    "for i in range(0,10):\n",
    "    true_label[i*10:(i+1)*10] = i\n",
    "test_err = np.count_nonzero(predicted_label - true_label)\n",
    "test_acc = 1-(test_err/100.0)\n",
    "\n",
    "print (\"Test Accuacy :::::: \" + str(test_acc))"
   ]
  },
  {
   "cell_type": "code",
   "execution_count": 5,
   "metadata": {},
   "outputs": [
    {
     "data": {
      "text/plain": [
       "array([0., 0., 0., 0., 0., 0., 0., 0., 0., 3., 1., 1., 1., 1., 1., 1., 1.,\n",
       "       1., 5., 1., 3., 2., 3., 2., 8., 8., 7., 2., 2., 8., 2., 3., 3., 5.,\n",
       "       3., 9., 3., 3., 3., 3., 4., 4., 4., 4., 4., 6., 9., 4., 4., 4., 5.,\n",
       "       5., 5., 5., 5., 5., 5., 5., 5., 5., 4., 6., 6., 6., 6., 0., 6., 4.,\n",
       "       6., 6., 7., 7., 1., 7., 7., 7., 7., 7., 6., 7., 2., 8., 8., 8., 8.,\n",
       "       9., 9., 8., 8., 8., 8., 9., 9., 9., 9., 9., 9., 7., 9., 4.])"
      ]
     },
     "execution_count": 5,
     "metadata": {},
     "output_type": "execute_result"
    }
   ],
   "source": [
    "predicted_label"
   ]
  },
  {
   "cell_type": "code",
   "execution_count": 42,
   "metadata": {},
   "outputs": [
    {
     "data": {
      "text/plain": [
       "(1000, 784)"
      ]
     },
     "execution_count": 42,
     "metadata": {},
     "output_type": "execute_result"
    }
   ],
   "source": [
    "Projection_Mat.shape"
   ]
  },
  {
   "cell_type": "markdown",
   "metadata": {},
   "source": [
    "Now, instead of using least square, we use LASSO in this question to find a sparse $w$. The idea behind is that we only want to use a small number of training samples to represent the test sample. Then, the objective is to find a vector $w$ that satisfies: $w = \\arg\\min \\hspace{2mm} \\|Dw - x \\|_2 ^2 + \\lambda \\|w \\|_1$. "
   ]
  },
  {
   "cell_type": "markdown",
   "metadata": {},
   "source": [
    "1.Try $\\lambda = 10^{-5}, 10^{-4}, 10^{-3}, 10^{-2}, 10^{-1}, 1, 10, 100$ and plot testing accuracy vs. $\\lambda$. Compare the testing accuracy with that from least square. \n",
    "\n",
    "You can use the Lasso solver in Scikit-learn (http://scikit-learn.org/stable/modules/generated/sklearn.linear_model.Lasso.html). Note that the objective function of Lasso solver in Scikit-learn might be different from what we defined here. Please adjust your arguments to the solver accordingly."
   ]
  },
  {
   "cell_type": "code",
   "execution_count": 122,
   "metadata": {},
   "outputs": [],
   "source": [
    "from sklearn import linear_model\n"
   ]
  },
  {
   "cell_type": "code",
   "execution_count": 104,
   "metadata": {},
   "outputs": [],
   "source": [
    "num_examples = Xr.shape[1]\n",
    "lamda = [1e-5,1e-4,1e-3,1e-2,1e-1, 1, 10, 100]\n",
    "# lasso = linear_model.Lasso(alpha=10/(2*num_examples))"
   ]
  },
  {
   "cell_type": "code",
   "execution_count": 105,
   "metadata": {},
   "outputs": [
    {
     "data": {
      "text/plain": [
       "[1e-05, 0.0001, 0.001, 0.01, 0.1, 1, 10, 100]"
      ]
     },
     "execution_count": 105,
     "metadata": {},
     "output_type": "execute_result"
    }
   ],
   "source": [
    "lamda"
   ]
  },
  {
   "cell_type": "code",
   "execution_count": 106,
   "metadata": {},
   "outputs": [
    {
     "data": {
      "text/plain": [
       "(784, 100)"
      ]
     },
     "execution_count": 106,
     "metadata": {},
     "output_type": "execute_result"
    }
   ],
   "source": [
    "test.shape"
   ]
  },
  {
   "cell_type": "code",
   "execution_count": 107,
   "metadata": {},
   "outputs": [
    {
     "name": "stderr",
     "output_type": "stream",
     "text": [
      "C:\\Users\\preri\\Anaconda3\\lib\\site-packages\\sklearn\\linear_model\\coordinate_descent.py:491: ConvergenceWarning: Objective did not converge. You might want to increase the number of iterations. Fitting data with very small alpha may cause precision problems.\n",
      "  ConvergenceWarning)\n"
     ]
    },
    {
     "name": "stdout",
     "output_type": "stream",
     "text": [
      "Test Accuacy :::::: 0.26\n",
      "Test Accuacy :::::: 0.27\n",
      "Test Accuacy :::::: 0.27\n",
      "Test Accuacy :::::: 0.4\n",
      "Test Accuacy :::::: 0.8\n",
      "Test Accuacy :::::: 0.9299999999999999\n",
      "Test Accuacy :::::: 0.92\n",
      "Test Accuacy :::::: 0.79\n"
     ]
    }
   ],
   "source": [
    "# LASSO square\n",
    "# X = np.matrix(Xr)\n",
    "test_accuracy = np.zeros((1,len(lamda)))\n",
    "non_zero_vs_lambda =  np.zeros((1,len(lamda)))\n",
    "for k,lmd in enumerate(lamda):\n",
    "    lasso = linear_model.Lasso(alpha=lmd/(2*num_examples))\n",
    "    predicted_label = np.zeros((100,))\n",
    "    for i in range(0,100):\n",
    "        test_ex = test[:,i]\n",
    "        dist = np.zeros((10,))\n",
    "        fitted_model = lasso.fit(X, test_ex)\n",
    "        non_zeros_w = np.count_nonzero(fitted_model.coef_)\n",
    "        non_zero_vs_lambda[0,k] = non_zero_vs_lambda[0,k] + non_zeros_w # sum over all the examples\n",
    "        for j in range(0,10):\n",
    "            sub_mat = Xr[:,j*100:(j+1)*100]\n",
    "            sub_W = fitted_model.coef_[j*100:(j+1)*100]\n",
    "            reconstructed = np.dot(sub_mat, sub_W )\n",
    "            dist[j] = np.linalg.norm(reconstructed - test_ex)\n",
    "        predicted_label[i] = np.argmin(dist)\n",
    "    true_label = np.zeros((100,))\n",
    "    for i in range(0,10):\n",
    "        true_label[i*10:(i+1)*10] = i\n",
    "    test_err = np.count_nonzero(predicted_label - true_label)\n",
    "    test_acc = 1-(test_err/100.0)\n",
    "    test_accuracy[0,k] = test_acc\n",
    "\n",
    "    print (\"Test Accuacy :::::: \" + str(test_acc))"
   ]
  },
  {
   "cell_type": "code",
   "execution_count": 108,
   "metadata": {},
   "outputs": [
    {
     "data": {
      "text/plain": [
       "[1e-05, 0.0001, 0.001, 0.01, 0.1, 1, 10, 100]"
      ]
     },
     "execution_count": 108,
     "metadata": {},
     "output_type": "execute_result"
    }
   ],
   "source": [
    "lamda"
   ]
  },
  {
   "cell_type": "code",
   "execution_count": 109,
   "metadata": {},
   "outputs": [],
   "source": [
    "lamda_array = np.asarray(lamda)"
   ]
  },
  {
   "cell_type": "code",
   "execution_count": 110,
   "metadata": {},
   "outputs": [
    {
     "data": {
      "text/plain": [
       "array([1.e-05, 1.e-04, 1.e-03, 1.e-02, 1.e-01, 1.e+00, 1.e+01, 1.e+02])"
      ]
     },
     "execution_count": 110,
     "metadata": {},
     "output_type": "execute_result"
    }
   ],
   "source": [
    "lamda_array"
   ]
  },
  {
   "cell_type": "code",
   "execution_count": 111,
   "metadata": {},
   "outputs": [
    {
     "data": {
      "text/plain": [
       "array([[0.26, 0.27, 0.27, 0.4 , 0.8 , 0.93, 0.92, 0.79]])"
      ]
     },
     "execution_count": 111,
     "metadata": {},
     "output_type": "execute_result"
    }
   ],
   "source": [
    "test_accuracy"
   ]
  },
  {
   "cell_type": "code",
   "execution_count": 113,
   "metadata": {},
   "outputs": [
    {
     "data": {
      "image/png": "[encoded data removed]",
      "text/plain": [
       "<Figure size 432x288 with 1 Axes>"
      ]
     },
     "metadata": {
      "needs_background": "light"
     },
     "output_type": "display_data"
    }
   ],
   "source": [
    "plt.figure()\n",
    "plt.plot(np.log10(lamda_array),test_accuracy[0])\n",
    "plt.title('Accuracy vs lambda')\n",
    "plt.xlabel(\"log10(lambda)\")\n",
    "plt.ylabel(\"Accuracy\")\n",
    "plt.show()"
   ]
  },
  {
   "cell_type": "markdown",
   "metadata": {},
   "source": [
    "### It can be seen that for low values of lamda, the accuracy on the test set is low but as lamda increases to 1, the accuracy peaks to about 0.93 which is higher than accuracy from least squares. This indicates that least squares is likely overfitting on the training data which is not the case when using Lasso as it only selects the most relevant features in the train set.  "
   ]
  },
  {
   "cell_type": "markdown",
   "metadata": {},
   "source": [
    "2.Plot the average number of nonzero entries in $w$ vs. $\\lambda$."
   ]
  },
  {
   "cell_type": "code",
   "execution_count": 114,
   "metadata": {},
   "outputs": [
    {
     "data": {
      "text/plain": [
       "(1, 8)"
      ]
     },
     "execution_count": 114,
     "metadata": {},
     "output_type": "execute_result"
    }
   ],
   "source": [
    "average_non_zero = np.divide(non_zero_vs_lambda,100)\n",
    "average_non_zero.shape"
   ]
  },
  {
   "cell_type": "code",
   "execution_count": 115,
   "metadata": {},
   "outputs": [
    {
     "data": {
      "image/png": "[encoded data removed]",
      "text/plain": [
       "<Figure size 432x288 with 1 Axes>"
      ]
     },
     "metadata": {
      "needs_background": "light"
     },
     "output_type": "display_data"
    }
   ],
   "source": [
    "plt.figure()\n",
    "plt.plot(np.log10(lamda_array),average_non_zero.T)\n",
    "plt.title('Nonzero w vs lambda')\n",
    "plt.xlabel(\"log10(lambda)\")\n",
    "plt.ylabel(\"Non zero # w\")\n",
    "plt.show()"
   ]
  },
  {
   "cell_type": "markdown",
   "metadata": {},
   "source": [
    "3.For each test sample, suppose $k$ is the right label, define $nk$ as nonzeros in $w_k$ / total # nonzeros in $w$. Plot the average of $nk$ over all testing samples vs. $\\lambda$. What do you find?"
   ]
  },
  {
   "cell_type": "code",
   "execution_count": 36,
   "metadata": {},
   "outputs": [
    {
     "name": "stderr",
     "output_type": "stream",
     "text": [
      "C:\\Users\\preri\\Anaconda3\\lib\\site-packages\\sklearn\\linear_model\\coordinate_descent.py:491: ConvergenceWarning: Objective did not converge. You might want to increase the number of iterations. Fitting data with very small alpha may cause precision problems.\n",
      "  ConvergenceWarning)\n"
     ]
    },
    {
     "name": "stdout",
     "output_type": "stream",
     "text": [
      "Test Accuacy :::::: 0.26\n",
      "Test Accuacy :::::: 0.27\n",
      "Test Accuacy :::::: 0.27\n",
      "Test Accuacy :::::: 0.4\n",
      "Test Accuacy :::::: 0.8\n",
      "Test Accuacy :::::: 0.9299999999999999\n",
      "Test Accuacy :::::: 0.92\n",
      "Test Accuacy :::::: 0.79\n"
     ]
    }
   ],
   "source": [
    "# LASSO square\n",
    "# X = np.matrix(Xr)\n",
    "test_accuracy = np.zeros((1,len(lamda)))\n",
    "non_zero_vs_lambda =  np.zeros((1,len(lamda)))\n",
    "avg_non_zero_for_correct_class =  np.zeros((1,len(lamda)))\n",
    "for k,lmd in enumerate(lamda):\n",
    "    lasso = linear_model.Lasso(alpha=lmd/(2*num_examples))\n",
    "    predicted_label = np.zeros((100,))\n",
    "    for i in range(0,100):\n",
    "        test_ex = test[:,i]\n",
    "        dist = np.zeros((10,))\n",
    "        fitted_model = lasso.fit(X, test_ex)\n",
    "        non_zeros_w = np.count_nonzero(fitted_model.coef_)\n",
    "        non_zero_vs_lambda[0,k] = non_zero_vs_lambda[0,k] + non_zeros_w\n",
    "        for j in range(0,10):\n",
    "            sub_mat = Xr[:,j*100:(j+1)*100]\n",
    "            sub_W = fitted_model.coef_[j*100:(j+1)*100]\n",
    "            reconstructed = np.dot(sub_mat, sub_W )\n",
    "            dist[j] = np.linalg.norm(reconstructed - test_ex)\n",
    "        predicted_label[i] = np.argmin(dist)\n",
    "        correct_label = np.argmin(dist)\n",
    "        useful_w_for_correct_label = fitted_model.coef_[correct_label*100:(correct_label+1)*100]\n",
    "        non_zero_w_for_correct_label = np.count_nonzero(useful_w_for_correct_label)\n",
    "        ratio_correct_non_zero_total_non_zero = non_zero_w_for_correct_label/(non_zeros_w + 1e-10)\n",
    "        avg_non_zero_for_correct_class[0,k] = avg_non_zero_for_correct_class[0,k] + ratio_correct_non_zero_total_non_zero\n",
    "    true_label = np.zeros((100,))\n",
    "    for i in range(0,10):\n",
    "        true_label[i*10:(i+1)*10] = i\n",
    "    test_err = np.count_nonzero(predicted_label - true_label)\n",
    "    test_acc = 1-(test_err/100.0)\n",
    "    test_accuracy[0,k] = test_acc\n",
    "\n",
    "    print (\"Test Accuacy :::::: \" + str(test_acc))"
   ]
  },
  {
   "cell_type": "code",
   "execution_count": 39,
   "metadata": {},
   "outputs": [],
   "source": [
    "avg_non_zero_for_correct_class_mean_ex = np.divide(avg_non_zero_for_correct_class,100)"
   ]
  },
  {
   "cell_type": "code",
   "execution_count": 132,
   "metadata": {},
   "outputs": [
    {
     "data": {
      "image/png": "[encoded data removed]",
      "text/plain": [
       "<Figure size 432x288 with 1 Axes>"
      ]
     },
     "metadata": {
      "needs_background": "light"
     },
     "output_type": "display_data"
    }
   ],
   "source": [
    "plt.figure()\n",
    "plt.plot(np.log10(lamda_array),avg_non_zero_for_correct_class_mean_ex.T)\n",
    "plt.title('avg wt for correct prediction')\n",
    "plt.xlabel(\"log10(lambda)\")\n",
    "plt.ylabel(\"average of  nk\")\n",
    "plt.show()"
   ]
  },
  {
   "cell_type": "markdown",
   "metadata": {},
   "source": [
    "### As the value of lamda increases, more fraction of the weight is assigned to the correct label. This is expected as increasing the L1 penalty causes a reduction in number of non zero values for w. So, the model puts more weight on the features corresponding to the correct label in comparison to other labels and prevents overfitting."
   ]
  },
  {
   "cell_type": "code",
   "execution_count": 37,
   "metadata": {},
   "outputs": [
    {
     "data": {
      "text/plain": [
       "array([0., 0., 0., 0., 0., 0., 0., 0., 0., 0., 0., 1., 1., 1., 0., 1., 1.,\n",
       "       0., 1., 0., 2., 2., 2., 0., 0., 2., 2., 2., 2., 8., 5., 3., 3., 3.,\n",
       "       3., 2., 3., 3., 3., 3., 4., 4., 4., 0., 4., 0., 4., 4., 4., 4., 9.,\n",
       "       5., 5., 5., 5., 5., 0., 5., 5., 5., 6., 6., 6., 6., 0., 6., 6., 6.,\n",
       "       6., 6., 7., 7., 7., 7., 7., 7., 7., 7., 7., 7., 2., 8., 8., 8., 8.,\n",
       "       8., 8., 8., 5., 8., 6., 9., 9., 9., 9., 9., 0., 8., 8., 0.])"
      ]
     },
     "execution_count": 37,
     "metadata": {},
     "output_type": "execute_result"
    }
   ],
   "source": [
    "predicted_label"
   ]
  },
  {
   "cell_type": "markdown",
   "metadata": {},
   "source": [
    "### Q2) Collaborative Representation Based Classification Using Elastic Net"
   ]
  },
  {
   "cell_type": "markdown",
   "metadata": {},
   "source": [
    "We now use the elastic net objective function to find $w$: $w = \\arg\\min \\hspace{2mm} \\|Dw - x \\|_2 ^2 + \\lambda (\\alpha \\|w \\|_1+0.5(1-\\alpha) \\|w \\|_2 ^2 )$. It linearly combines the $L1$ and $L2$ penalties. Choose an appropriate $\\lambda$ from Q1, and vary $\\alpha$ in the range $(0,1)$.\n",
    "\n",
    "You can use Scikit-learn ElasticNet (http://scikit-learn.org/stable/modules/generated/sklearn.linear_model.ElasticNet.html). Refer to the documentation on the web."
   ]
  },
  {
   "cell_type": "markdown",
   "metadata": {},
   "source": [
    "4.Plot testing accuracy vs. $\\alpha$. Compare the testing accuracy with that from least square and Lasso. "
   ]
  },
  {
   "cell_type": "code",
   "execution_count": 123,
   "metadata": {},
   "outputs": [],
   "source": [
    "alpha_blend = [.1,.2,.3,.4,.5,.6,.7,.8,.9]"
   ]
  },
  {
   "cell_type": "code",
   "execution_count": 124,
   "metadata": {},
   "outputs": [
    {
     "name": "stderr",
     "output_type": "stream",
     "text": [
      "C:\\Users\\preri\\Anaconda3\\lib\\site-packages\\sklearn\\linear_model\\coordinate_descent.py:491: ConvergenceWarning: Objective did not converge. You might want to increase the number of iterations. Fitting data with very small alpha may cause precision problems.\n",
      "  ConvergenceWarning)\n"
     ]
    },
    {
     "name": "stdout",
     "output_type": "stream",
     "text": [
      "Test Accuacy :::::: 0.87\n",
      "Test Accuacy :::::: 0.87\n",
      "Test Accuacy :::::: 0.9\n",
      "Test Accuacy :::::: 0.9299999999999999\n",
      "Test Accuacy :::::: 0.9299999999999999\n",
      "Test Accuacy :::::: 0.92\n",
      "Test Accuacy :::::: 0.9299999999999999\n",
      "Test Accuacy :::::: 0.9299999999999999\n",
      "Test Accuacy :::::: 0.94\n"
     ]
    }
   ],
   "source": [
    "# LASSO square\n",
    "# X = np.matrix(Xr)\n",
    "test_accuracy = np.zeros((1,len(alpha_blend)))\n",
    "non_zero_vs_alpha =  np.zeros((1,len(alpha_blend)))\n",
    "avg_non_zero_for_correct_class =  np.zeros((1,len(alpha_blend)))\n",
    "lmd = 1\n",
    "for k,alph in enumerate(alpha_blend):\n",
    "#     alpha = (alph*lmd + 0.5*(1-alph)*lmd)/(2*num_examples)\n",
    "#     l1_ratio = alph/(alph + 0.5*(1-alph))\n",
    "    alpha = lmd/(2*num_examples)\n",
    "    l1_ratio = alph\n",
    "    lasso = linear_model.ElasticNet(alpha=alpha, l1_ratio=l1_ratio)\n",
    "    predicted_label = np.zeros((100,))\n",
    "    for i in range(0,100):\n",
    "        test_ex = test[:,i]\n",
    "        dist = np.zeros((10,))\n",
    "        fitted_model = lasso.fit(X, test_ex)\n",
    "        non_zeros_w = np.count_nonzero(fitted_model.coef_)\n",
    "        non_zero_vs_alpha[0,k] = non_zero_vs_alpha[0,k] + non_zeros_w\n",
    "        for j in range(0,10):\n",
    "            sub_mat = Xr[:,j*100:(j+1)*100]\n",
    "            sub_W = fitted_model.coef_[j*100:(j+1)*100]\n",
    "            reconstructed = np.dot(sub_mat, sub_W )\n",
    "            dist[j] = np.linalg.norm(reconstructed - test_ex)\n",
    "        predicted_label[i] = np.argmin(dist)\n",
    "        correct_label = np.argmin(dist)\n",
    "        useful_w_for_correct_label = fitted_model.coef_[correct_label*100:(correct_label+1)*100]\n",
    "        non_zero_w_for_correct_label = np.count_nonzero(useful_w_for_correct_label)\n",
    "        ratio_correct_non_zero_total_non_zero = non_zero_w_for_correct_label/non_zeros_w\n",
    "        avg_non_zero_for_correct_class[0,k] = avg_non_zero_for_correct_class[0,k] + ratio_correct_non_zero_total_non_zero\n",
    "    true_label = np.zeros((100,))\n",
    "    for i in range(0,10):\n",
    "        true_label[i*10:(i+1)*10] = i\n",
    "    test_err = np.count_nonzero(predicted_label - true_label)\n",
    "    test_acc = 1-(test_err/100.0)\n",
    "    test_accuracy[0,k] = test_acc\n",
    "\n",
    "    print (\"Test Accuacy :::::: \" + str(test_acc))"
   ]
  },
  {
   "cell_type": "code",
   "execution_count": 125,
   "metadata": {},
   "outputs": [
    {
     "data": {
      "image/png": "[encoded data removed]",
      "text/plain": [
       "<Figure size 432x288 with 1 Axes>"
      ]
     },
     "metadata": {
      "needs_background": "light"
     },
     "output_type": "display_data"
    }
   ],
   "source": [
    "plt.figure()\n",
    "plt.plot(alpha_blend,test_accuracy[0])\n",
    "plt.title('Accuracy vs alpha')\n",
    "plt.xlabel(\"alpha\")\n",
    "plt.ylabel(\"Accuracy\")\n",
    "plt.show()"
   ]
  },
  {
   "cell_type": "markdown",
   "metadata": {},
   "source": [
    "### The best accuracy using elastic net is 0.94 (for alpha = 0.9, lamda = 1) whereas the accuracy using least square was 0.76 and using only lasso with lamda = 1, it was 0.93. This indicates an appropriate balance between L1 and L2 penalty can generalize best to the test data while ensuring we do not overfit on the train data. Least square alone overfits the training data while lasso tries to make components of w to 0. An optimum balance between L1 and L2 penalty helps in learning from the data while ensuring we do not overfit on the training data."
   ]
  },
  {
   "cell_type": "markdown",
   "metadata": {},
   "source": [
    "5.Plot the average number of nonzero entries in $w$ vs. $\\alpha$ and average $nk$ vs. $\\alpha$. What do you find?"
   ]
  },
  {
   "cell_type": "code",
   "execution_count": 134,
   "metadata": {},
   "outputs": [
    {
     "data": {
      "text/plain": [
       "(1, 9)"
      ]
     },
     "execution_count": 134,
     "metadata": {},
     "output_type": "execute_result"
    }
   ],
   "source": [
    "non_zero_vs_alpha = np.divide(non_zero_vs_alpha,100)\n",
    "non_zero_vs_alpha.shape"
   ]
  },
  {
   "cell_type": "code",
   "execution_count": 141,
   "metadata": {},
   "outputs": [
    {
     "data": {
      "text/plain": [
       "(1, 11)"
      ]
     },
     "execution_count": 141,
     "metadata": {},
     "output_type": "execute_result"
    }
   ],
   "source": [
    "average_non_zero_alpha.shape"
   ]
  },
  {
   "cell_type": "code",
   "execution_count": 135,
   "metadata": {},
   "outputs": [
    {
     "data": {
      "image/png": "[encoded data removed]",
      "text/plain": [
       "<Figure size 432x288 with 1 Axes>"
      ]
     },
     "metadata": {
      "needs_background": "light"
     },
     "output_type": "display_data"
    }
   ],
   "source": [
    "plt.figure()\n",
    "plt.plot(alpha_blend,non_zero_vs_alpha[0].T)\n",
    "plt.title('Nonzero w vs alpha')\n",
    "plt.xlabel(\"alpha\")\n",
    "plt.ylabel(\"Non zero # w\")\n",
    "plt.show()"
   ]
  },
  {
   "cell_type": "markdown",
   "metadata": {},
   "source": [
    "### When alpha is close to 0,  L2 penalty is more dominant as a result of which more weights are non zero. Increasing alpha causes L1 penalty to increase as a result of which nonzero values for w decreases to compensate for L1 penalty. "
   ]
  },
  {
   "cell_type": "code",
   "execution_count": 140,
   "metadata": {},
   "outputs": [
    {
     "data": {
      "text/plain": [
       "array([[11.76339574, 12.67743379, 13.32490911, 14.05938781, 14.54446592,\n",
       "        14.96943563, 15.51319313, 15.92204651, 16.38798191]])"
      ]
     },
     "execution_count": 140,
     "metadata": {},
     "output_type": "execute_result"
    }
   ],
   "source": [
    "avg_non_zero_for_correct_class"
   ]
  },
  {
   "cell_type": "code",
   "execution_count": 138,
   "metadata": {},
   "outputs": [],
   "source": [
    "avg_non_zero_for_correct_class_mean_ex_alpha = np.divide(avg_non_zero_for_correct_class,100)"
   ]
  },
  {
   "cell_type": "code",
   "execution_count": 139,
   "metadata": {},
   "outputs": [
    {
     "data": {
      "image/png": "[encoded data removed]",
      "text/plain": [
       "<Figure size 432x288 with 1 Axes>"
      ]
     },
     "metadata": {
      "needs_background": "light"
     },
     "output_type": "display_data"
    }
   ],
   "source": [
    "plt.figure()\n",
    "plt.plot(alpha_blend,avg_non_zero_for_correct_class_mean_ex_alpha.T)\n",
    "plt.title('avg wt for correct prediction')\n",
    "plt.xlabel(\"alpha\")\n",
    "plt.ylabel(\"average of  nk\")\n",
    "plt.show()"
   ]
  },
  {
   "cell_type": "code",
   "execution_count": null,
   "metadata": {},
   "outputs": [],
   "source": []
  },
  {
   "cell_type": "markdown",
   "metadata": {},
   "source": [
    "### As expected, for alpha  closer to 0,  L2 penalty terms dominate as a result of which more coefficients of w are non zero. As the number of test cases are same for each class (total classes = 10), for alpha close to 0, the fraction of non zero weights are close to 0.1 (~0.12 in this case). When alpha increases, L1 penalty comes into play which causes more weight being assigned to the correct label than incorrect ones that in turn causes fraction of weight assigned to correct label to increase. It begins to give more importance to weights corresponding to correct label than incorrect ones with increase in alpha."
   ]
  },
  {
   "cell_type": "markdown",
   "metadata": {},
   "source": [
    "### Q3) Orthogonal Matching Pursuit (OMP)"
   ]
  },
  {
   "cell_type": "markdown",
   "metadata": {},
   "source": [
    "The general sparse least squares problem can be posed as below.\n",
    "\\begin{equation}\n",
    "\\min_{x\\in\\mathbb{R}^n} \\|y-Ax\\|_2^2\n",
    "\\end{equation}\n",
    "\\begin{equation}\n",
    "\\mbox{s.t.} \\|x\\|_0 \\leq k \n",
    "\\end{equation}\n",
    "\n",
    "Orthogonal Matching Pursuit (OMP) is a greedy algorithm for sparse least squares problem above. Here, we are going to use OMP to find a sparse solution for a synthetic dataset. The dataset is defined below:"
   ]
  },
  {
   "cell_type": "code",
   "execution_count": 54,
   "metadata": {},
   "outputs": [
    {
     "name": "stdout",
     "output_type": "stream",
     "text": [
      "X (train) : 100 x 512\n",
      "y (test) : 100 x 1\n",
      "w (weight) : 512 x 1\n"
     ]
    },
    {
     "data": {
      "image/png": "[encoded data removed]",
      "text/plain": [
       "<Figure size 432x288 with 1 Axes>"
      ]
     },
     "metadata": {
      "needs_background": "light"
     },
     "output_type": "display_data"
    }
   ],
   "source": [
    "from sklearn import linear_model\n",
    "from sklearn.datasets import make_sparse_coded_signal\n",
    "\n",
    "y, X, w = make_sparse_coded_signal(n_samples=1,n_components=512,n_features=100,n_nonzero_coefs=15,random_state=0)\n",
    "print ('X (train) : ' + str(X.shape[0]) + ' x ' + str(X.shape[1]))\n",
    "print ('y (test) : ' + str(y.shape[0]) + ' x 1')\n",
    "print ('w (weight) : ' + str(w.shape[0]) + ' x 1')\n",
    "\n",
    "idx, = w.nonzero()\n",
    "\n",
    "plt.figure()\n",
    "plt.stem(idx, w[idx])\n",
    "plt.xlim([0,512])\n",
    "plt.title('Sparse weight')\n",
    "plt.show()"
   ]
  },
  {
   "cell_type": "code",
   "execution_count": 55,
   "metadata": {},
   "outputs": [],
   "source": [
    "from sklearn.linear_model import OrthogonalMatchingPursuit\n",
    "from sklearn.linear_model import OrthogonalMatchingPursuitCV\n"
   ]
  },
  {
   "cell_type": "markdown",
   "metadata": {},
   "source": [
    "6.Use the orthogonal matching pursuit algorithm to find the $\\hat{w}$ (coefficients) and compare it with the $w$ above (compute $\\|w-\\hat{w}\\|_2^2$). (http://scikit-learn.org/stable/auto_examples/linear_model/plot_omp.html)\n",
    "\n",
    "You can use scikit-learn OrthogonalMatchingPursuit (http://scikit-learn.org/stable/modules/generated/sklearn.linear_model.OrthogonalMatchingPursuit.html). Set $\\mbox{n_nonzero_coefs}=20$, $\\mbox{fit_intercept}=False$ and default for other parameters. "
   ]
  },
  {
   "cell_type": "code",
   "execution_count": 56,
   "metadata": {},
   "outputs": [
    {
     "name": "stderr",
     "output_type": "stream",
     "text": [
      "C:\\Users\\preri\\Anaconda3\\lib\\site-packages\\sklearn\\linear_model\\omp.py:385: RuntimeWarning:  Orthogonal matching pursuit ended prematurely due to linear\n",
      "dependence in the dictionary. The requested precision might not have been met.\n",
      "\n",
      "  copy_X=copy_X, return_path=return_path)\n"
     ]
    },
    {
     "data": {
      "text/plain": [
       "<StemContainer object of 3 artists>"
      ]
     },
     "execution_count": 56,
     "metadata": {},
     "output_type": "execute_result"
    },
    {
     "data": {
      "image/png": "[encoded data removed]",
      "text/plain": [
       "<Figure size 432x288 with 1 Axes>"
      ]
     },
     "metadata": {
      "needs_background": "light"
     },
     "output_type": "display_data"
    }
   ],
   "source": [
    "omp = OrthogonalMatchingPursuit(n_nonzero_coefs=20, fit_intercept=False)\n",
    "omp.fit(X, y)\n",
    "coef = omp.coef_\n",
    "idx_r, = coef.nonzero()\n",
    "plt.subplot(4, 1, 2)\n",
    "plt.xlim(0, 512)\n",
    "plt.title(\"Recovered signal from noise-free measurements\")\n",
    "plt.stem(idx_r, coef[idx_r])"
   ]
  },
  {
   "cell_type": "code",
   "execution_count": 57,
   "metadata": {},
   "outputs": [
    {
     "data": {
      "text/plain": [
       "array([ 0.09820563, -0.43116899, -0.21079998,  0.07264699, -0.30617707,\n",
       "        1.58380476, -0.87322229, -0.09824186,  1.68550553, -2.73865906,\n",
       "       -1.36627127,  1.49132825,  0.30490502, -3.23531439, -0.24061129])"
      ]
     },
     "execution_count": 57,
     "metadata": {},
     "output_type": "execute_result"
    }
   ],
   "source": [
    "omp.coef_[coef.nonzero()]"
   ]
  },
  {
   "cell_type": "code",
   "execution_count": 58,
   "metadata": {},
   "outputs": [
    {
     "data": {
      "text/plain": [
       "array([ 0.09820563, -0.43116899, -0.21079998,  0.07264699, -0.30617707,\n",
       "        1.58380476, -0.87322229, -0.09824186,  1.68550553, -2.73865906,\n",
       "       -1.36627127,  1.49132825,  0.30490502, -3.23531439, -0.24061129])"
      ]
     },
     "execution_count": 58,
     "metadata": {},
     "output_type": "execute_result"
    }
   ],
   "source": [
    "w[w.nonzero()]"
   ]
  },
  {
   "cell_type": "code",
   "execution_count": 59,
   "metadata": {},
   "outputs": [
    {
     "data": {
      "text/plain": [
       "(array([ 46,  68, 101, 123, 158, 195, 226, 227, 268, 269, 355, 359, 467,\n",
       "        492, 494], dtype=int64),)"
      ]
     },
     "execution_count": 59,
     "metadata": {},
     "output_type": "execute_result"
    }
   ],
   "source": [
    "w.nonzero()"
   ]
  },
  {
   "cell_type": "code",
   "execution_count": 60,
   "metadata": {},
   "outputs": [],
   "source": [
    "normed_difference_sq = np.linalg.norm(omp.coef_[coef.nonzero()] - w[w.nonzero()])**2"
   ]
  },
  {
   "cell_type": "code",
   "execution_count": 61,
   "metadata": {},
   "outputs": [
    {
     "data": {
      "text/plain": [
       "8.76355902594524e-30"
      ]
     },
     "execution_count": 61,
     "metadata": {},
     "output_type": "execute_result"
    }
   ],
   "source": [
    "normed_difference_sq"
   ]
  },
  {
   "cell_type": "markdown",
   "metadata": {},
   "source": [
    "###  $\\|w-\\hat{w}\\|_2^2$ =  8.76355902594524e-30\n",
    "### This indicates that weight estimates using OMP is close to the sparse weights as defined in the dataset"
   ]
  },
  {
   "cell_type": "code",
   "execution_count": null,
   "metadata": {},
   "outputs": [],
   "source": []
  },
  {
   "cell_type": "markdown",
   "metadata": {},
   "source": [
    "7.Implement the OMP function yourself with following requirements. \n",
    "[Termination conditions]\n",
    "\n",
    "1)Number of nonzero elements in $w$. \n",
    "\\begin{equation}\n",
    "\\mbox{number of nonzero elements} = k\n",
    "\\end{equation}\n",
    "2)Tolerance of the residual.\n",
    "\\begin{equation}\n",
    "\\frac{\\|y-\\hat{y}\\|_2}{\\|y\\|_2} \\leq \\mbox{tolerance}\n",
    "\\end{equation}\n",
    "3)Maximum number of iterations."
   ]
  },
  {
   "cell_type": "code",
   "execution_count": 62,
   "metadata": {},
   "outputs": [],
   "source": [
    "# Function outline\n",
    "def omp(X,y,n_nonzero,tol,max_iter):\n",
    "    t = 0\n",
    "    St = []\n",
    "    rt = y\n",
    "    terminate = False\n",
    "    while(not terminate):\n",
    "        t = t+1\n",
    "        dot_products = np.abs(np.dot(X.T,rt))\n",
    "        most_similar_index = np.argmax(dot_products)\n",
    "        St.append(most_similar_index)\n",
    "        A_non_zero = X[:,St]\n",
    "        X_temp = A_non_zero\n",
    "        INV_Mat = np.linalg.pinv(np.dot(X_temp.T,X_temp))\n",
    "        Projection_Mat =  np.dot(INV_Mat,X_temp.T)\n",
    "        wt= np.dot(Projection_Mat,y)\n",
    "        rt = y - np.dot(A_non_zero,wt)\n",
    "        toler =  np.linalg.norm(rt)/np.linalg.norm(y)\n",
    "        if (toler<tol) or (t>max_iter) or np.count_nonzero(wt) >= n_nonzero:\n",
    "            w = np.zeros(X.shape[1])\n",
    "            w[St] = wt\n",
    "            terminate = True    \n",
    "    return w"
   ]
  },
  {
   "cell_type": "code",
   "execution_count": 52,
   "metadata": {
    "scrolled": true
   },
   "outputs": [],
   "source": []
  },
  {
   "cell_type": "markdown",
   "metadata": {},
   "source": [
    "8.Repeat question 6 using your OMP function. (Set parameters as $\\mbox{n_nonzero}=15$,$\\mbox{tol}=10^{-30}$,$\\mbox{max_iter}=300$)"
   ]
  },
  {
   "cell_type": "code",
   "execution_count": 65,
   "metadata": {},
   "outputs": [
    {
     "name": "stdout",
     "output_type": "stream",
     "text": [
      "My implementation non zero indices\n",
      "(array([ 46,  68, 101, 123, 158, 195, 226, 227, 268, 269, 355, 359, 467,\n",
      "       492, 494], dtype=int64),)\n",
      "Scipy implementation non zero indices\n",
      "(array([ 46,  68, 101, 123, 158, 195, 226, 227, 268, 269, 355, 359, 467,\n",
      "       492, 494], dtype=int64),)\n",
      "\n",
      "Normed difference square\n",
      "1.0388331304928643e-28\n"
     ]
    }
   ],
   "source": [
    "tol = 1e-30\n",
    "max_iter = 300\n",
    "n_nonzero = 15\n",
    "wt_my_omp = omp(X,y,n_nonzero,tol,max_iter)\n",
    "print(\"My implementation non zero indices\")\n",
    "print(np.nonzero(wt_my_omp))\n",
    "print(\"Scipy implementation non zero indices\")\n",
    "print(np.nonzero(w))\n",
    "print(\"\")\n",
    "normed_difference_sq = np.linalg.norm(wt_my_omp[wt_my_omp.nonzero()] - w[w.nonzero()])**2\n",
    "print(\"Normed difference square\")\n",
    "print(normed_difference_sq)"
   ]
  },
  {
   "cell_type": "markdown",
   "metadata": {},
   "source": [
    "### It can be seen that the squared difference of norm using manual implementation of OMP is close to the true sparse weights as defined in the dataset"
   ]
  },
  {
   "cell_type": "markdown",
   "metadata": {},
   "source": [
    "9.Try changing the tolerance value from $10^{-3}$ to $10^{-30}$ in log scale. 1)Plot the error ($\\|w-\\hat{w}\\|_2^2$) vs. tolerance and 2)number of nonzero elements in $\\hat{w}$ vs. tolerance. (Keep $\\mbox{n_nonzero}=15$ and $\\mbox{max_iter}=300$.)"
   ]
  },
  {
   "cell_type": "code",
   "execution_count": 79,
   "metadata": {},
   "outputs": [],
   "source": [
    "tolerances_to_try = np.logspace(-3, -30, num=30)\n",
    "tolerances_to_try_list = np.ndarray.tolist(tolerances_to_try)\n",
    "errors = np.zeros_like(tolerances_to_try)\n",
    "non_zeros_tols = np.zeros_like(tolerances_to_try)\n",
    "for (i,t) in enumerate(tolerances_to_try_list):\n",
    "    wt_my_omp = omp(X,y,n_nonzero,t,max_iter)\n",
    "    normed_difference_sq = np.linalg.norm(wt_my_omp[wt_my_omp.nonzero()] - w[w.nonzero()])**2\n",
    "    errors[i] = normed_difference_sq\n",
    "    non_zeros_tols[i] = np.count_nonzero(wt_my_omp)"
   ]
  },
  {
   "cell_type": "code",
   "execution_count": 83,
   "metadata": {},
   "outputs": [
    {
     "data": {
      "image/png": "[encoded data removed]",
      "text/plain": [
       "<Figure size 432x288 with 1 Axes>"
      ]
     },
     "metadata": {
      "needs_background": "light"
     },
     "output_type": "display_data"
    }
   ],
   "source": [
    "plt.figure()\n",
    "plt.plot(np.log10(tolerances_to_try),errors)\n",
    "plt.title('error v/s tolerance')\n",
    "plt.xlabel(\"log10(tolerance)\")\n",
    "plt.ylabel(\"error\")\n",
    "plt.show()"
   ]
  },
  {
   "cell_type": "code",
   "execution_count": null,
   "metadata": {},
   "outputs": [],
   "source": []
  },
  {
   "cell_type": "code",
   "execution_count": 85,
   "metadata": {},
   "outputs": [
    {
     "data": {
      "image/png": "[encoded data removed]",
      "text/plain": [
       "<Figure size 432x288 with 1 Axes>"
      ]
     },
     "metadata": {
      "needs_background": "light"
     },
     "output_type": "display_data"
    }
   ],
   "source": [
    "plt.figure()\n",
    "plt.plot(np.log10(tolerances_to_try),non_zeros_tols)\n",
    "plt.title('non_zero w v/s tolerance')\n",
    "plt.xlabel(\"log10(tolerance)\")\n",
    "plt.ylabel(\"non zero w's\")\n",
    "plt.show()"
   ]
  },
  {
   "cell_type": "markdown",
   "metadata": {},
   "source": [
    "### The above two plots indicate that the sparse weight determined from OMP is robust to even quite high values of tolerances."
   ]
  },
  {
   "cell_type": "code",
   "execution_count": null,
   "metadata": {},
   "outputs": [],
   "source": []
  }
 ],
 "metadata": {
  "anaconda-cloud": {},
  "kernelspec": {
   "display_name": "Python 3",
   "language": "python",
   "name": "python3"
  },
  "language_info": {
   "codemirror_mode": {
    "name": "ipython",
    "version": 3
   },
   "file_extension": ".py",
   "mimetype": "text/x-python",
   "name": "python",
   "nbconvert_exporter": "python",
   "pygments_lexer": "ipython3",
   "version": "3.7.0"
  }
 },
 "nbformat": 4,
 "nbformat_minor": 1
}
