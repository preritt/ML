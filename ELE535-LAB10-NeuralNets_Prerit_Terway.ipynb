{
 "cells": [
  {
   "cell_type": "markdown",
   "metadata": {
    "deletable": true,
    "editable": true
   },
   "source": [
    "# ELE435-535 Computational LAB 10"
   ]
  },
  {
   "cell_type": "markdown",
   "metadata": {
    "deletable": true,
    "editable": true
   },
   "source": [
    "# LAB Parts:\n",
    "\n",
    "## 1) TensorFlow Installation\n",
    "## 2) Implementing a multi-layer perceptron with TensorFlow\n",
    "## 3) Having fun with TensorFlow Playground"
   ]
  },
  {
   "cell_type": "markdown",
   "metadata": {
    "deletable": true,
    "editable": true
   },
   "source": [
    "### 1) TensorFlow Installation"
   ]
  },
  {
   "cell_type": "markdown",
   "metadata": {
    "deletable": true,
    "editable": true
   },
   "source": [
    "TensorFlow is a free and an open source software library for numerical computation using data flow graphs. It was originally developed by researchers and engineers working on the Google Brain Team within Google's Machine Intelligence research organization for the purposes of conducting machine learning and deep neural networks research. However, it's applicable in a\n",
    "wide variety of other domains as well."
   ]
  },
  {
   "cell_type": "markdown",
   "metadata": {
    "deletable": true,
    "editable": true
   },
   "source": [
    "1. Install Anaconda by following the instructions here https://www.anaconda.com/download. This should work for all MAC, Linux and Windows operating systems.\n",
    "2. Open your Anaconda terminal and create a new environment called tensorflow using the following command: <br> conda create -n tensorflow python=3.6 <br>\n",
    "3. Now, activate your tensorflow environment by typing <br> source activate tensorflow (MAC and Linux) <br> activate tensorflow (Windows) <br>\n",
    "4. Once the new envoironment is activated, we are going to install the following packages:<br> conda install ipython <br> conda install jupyter <br> conda install matplotlib <br> conda install -c conda-forge tensorflow "
   ]
  },
  {
   "cell_type": "markdown",
   "metadata": {
    "deletable": true,
    "editable": true
   },
   "source": [
    "### 2) Implementing a MLP with TensorFlow"
   ]
  },
  {
   "cell_type": "markdown",
   "metadata": {
    "deletable": true,
    "editable": true
   },
   "source": [
    "There are many well-written tutorials on how to use TensorFlow. For example, see: https://www.tensorflow.org/guide/low_level_intro <br> https://www.datacamp.com/community/tutorials/tensorflow-tutorial <br>\n",
    "Further, these days high-level APIs such as Keras has made it very easy to train very deep neural networks. For example, simply with 4-5 lines of code with Keras running on top of TensorFlow (https://www.tensorflow.org/tutorials/), you can get more than 99% test accuracy on MNIST. However, to understand the underlying flow better, we are going to work with the low-level back-end."
   ]
  },
  {
   "cell_type": "markdown",
   "metadata": {
    "deletable": true,
    "editable": true
   },
   "source": [
    "Here's a simple code that trains a one layer neural network with linear activation function. We use Cross-entropy as the loss function and SGD for learning the model."
   ]
  },
  {
   "cell_type": "code",
   "execution_count": 2,
   "metadata": {
    "collapsed": true,
    "deletable": true,
    "editable": true
   },
   "outputs": [],
   "source": [
    "import matplotlib.pyplot as plt\n",
    "import tensorflow as tf\n",
    "import numpy as np"
   ]
  },
  {
   "cell_type": "code",
   "execution_count": 3,
   "metadata": {
    "collapsed": false,
    "deletable": true,
    "editable": true
   },
   "outputs": [
    {
     "name": "stdout",
     "output_type": "stream",
     "text": [
      "WARNING:tensorflow:From C:\\Program Files\\Anaconda3\\lib\\site-packages\\tensorflow\\contrib\\learn\\python\\learn\\datasets\\base.py:198: retry (from tensorflow.contrib.learn.python.learn.datasets.base) is deprecated and will be removed in a future version.\n",
      "Instructions for updating:\n",
      "Use the retry module or similar alternatives.\n",
      "WARNING:tensorflow:From <ipython-input-3-cf19ccc9a6aa>:2: read_data_sets (from tensorflow.contrib.learn.python.learn.datasets.mnist) is deprecated and will be removed in a future version.\n",
      "Instructions for updating:\n",
      "Please use alternatives such as official/mnist/dataset.py from tensorflow/models.\n",
      "WARNING:tensorflow:From C:\\Program Files\\Anaconda3\\lib\\site-packages\\tensorflow\\contrib\\learn\\python\\learn\\datasets\\mnist.py:260: maybe_download (from tensorflow.contrib.learn.python.learn.datasets.base) is deprecated and will be removed in a future version.\n",
      "Instructions for updating:\n",
      "Please write your own downloading logic.\n",
      "WARNING:tensorflow:From C:\\Program Files\\Anaconda3\\lib\\site-packages\\tensorflow\\contrib\\learn\\python\\learn\\datasets\\mnist.py:262: extract_images (from tensorflow.contrib.learn.python.learn.datasets.mnist) is deprecated and will be removed in a future version.\n",
      "Instructions for updating:\n",
      "Please use tf.data to implement this functionality.\n",
      "Extracting /tmp/data/train-images-idx3-ubyte.gz\n",
      "WARNING:tensorflow:From C:\\Program Files\\Anaconda3\\lib\\site-packages\\tensorflow\\contrib\\learn\\python\\learn\\datasets\\mnist.py:267: extract_labels (from tensorflow.contrib.learn.python.learn.datasets.mnist) is deprecated and will be removed in a future version.\n",
      "Instructions for updating:\n",
      "Please use tf.data to implement this functionality.\n",
      "Extracting /tmp/data/train-labels-idx1-ubyte.gz\n",
      "WARNING:tensorflow:From C:\\Program Files\\Anaconda3\\lib\\site-packages\\tensorflow\\contrib\\learn\\python\\learn\\datasets\\mnist.py:110: dense_to_one_hot (from tensorflow.contrib.learn.python.learn.datasets.mnist) is deprecated and will be removed in a future version.\n",
      "Instructions for updating:\n",
      "Please use tf.one_hot on tensors.\n",
      "Extracting /tmp/data/t10k-images-idx3-ubyte.gz\n",
      "Extracting /tmp/data/t10k-labels-idx1-ubyte.gz\n",
      "WARNING:tensorflow:From C:\\Program Files\\Anaconda3\\lib\\site-packages\\tensorflow\\contrib\\learn\\python\\learn\\datasets\\mnist.py:290: DataSet.__init__ (from tensorflow.contrib.learn.python.learn.datasets.mnist) is deprecated and will be removed in a future version.\n",
      "Instructions for updating:\n",
      "Please use alternatives such as official/mnist/dataset.py from tensorflow/models.\n"
     ]
    }
   ],
   "source": [
    "from tensorflow.examples.tutorials.mnist import input_data\n",
    "mnist = input_data.read_data_sets(\"/tmp/data/\", one_hot=True)"
   ]
  },
  {
   "cell_type": "code",
   "execution_count": 4,
   "metadata": {
    "collapsed": false,
    "deletable": true,
    "editable": true
   },
   "outputs": [
    {
     "name": "stdout",
     "output_type": "stream",
     "text": [
      "WARNING:tensorflow:From <ipython-input-4-eaac28ae0e2d>:23: softmax_cross_entropy_with_logits (from tensorflow.python.ops.nn_ops) is deprecated and will be removed in a future version.\n",
      "Instructions for updating:\n",
      "\n",
      "Future major versions of TensorFlow will allow gradients to flow\n",
      "into the labels input on backprop by default.\n",
      "\n",
      "See tf.nn.softmax_cross_entropy_with_logits_v2.\n",
      "\n",
      "step 0, training loss= 70.29067, training acc= 21.875%\n",
      "step 1000, training loss= 0.044581283, training acc= 98.4375%\n",
      "step 2000, training loss= 0.10869244, training acc= 96.875%\n",
      "step 3000, training loss= 0.43076664, training acc= 93.75%\n",
      "step 4000, training loss= 0.20707709, training acc= 98.4375%\n",
      "step 5000, training loss= 0.02388611, training acc= 100.0%\n",
      "step 6000, training loss= 0.056399062, training acc= 98.4375%\n",
      "step 7000, training loss= 0.022255301, training acc= 100.0%\n",
      "step 8000, training loss= 0.17430496, training acc= 92.1875%\n",
      "step 9000, training loss= 0.024185589, training acc= 100.0%\n",
      "Test acc= 89.22 %\n"
     ]
    }
   ],
   "source": [
    "## Building the graph\n",
    "\n",
    "num_hidden_neurons=64\n",
    "learning_rate = 0.1\n",
    "num_steps = 10000\n",
    "batch_size = 64\n",
    "\n",
    "X = tf.placeholder(\"float\", [None, 784])\n",
    "Y = tf.placeholder(\"float\", [None, 10])\n",
    "weights = {\n",
    "    'h1': tf.Variable(tf.random_normal([784, num_hidden_neurons])),\n",
    "    'out': tf.Variable(tf.random_normal([num_hidden_neurons, 10]))\n",
    "}\n",
    "biases = {\n",
    "    'b1': tf.Variable(tf.random_normal([num_hidden_neurons])),\n",
    "    'out': tf.Variable(tf.random_normal([10]))\n",
    "}\n",
    "def neural_net(x):\n",
    "    layer_1 = tf.add(tf.matmul(x, weights['h1']), biases['b1'])\n",
    "    out_layer = tf.matmul(layer_1, weights['out']) + biases['out']\n",
    "    return out_layer\n",
    "\n",
    "loss = tf.reduce_mean(tf.nn.softmax_cross_entropy_with_logits(logits=neural_net(X), labels=Y))\n",
    "optimizer = tf.train.GradientDescentOptimizer(learning_rate=learning_rate)\n",
    "train_op = optimizer.minimize(loss)\n",
    "correct_pred = tf.equal(tf.argmax(neural_net(X), 1), tf.argmax(Y, 1))\n",
    "accuracy = tf.reduce_mean(tf.cast(correct_pred, tf.float32))\n",
    "\n",
    "### Initialization and running the model\n",
    "with tf.Session() as sess:\n",
    "    sess.run(tf.global_variables_initializer())\n",
    "\n",
    "    for step in range(0, num_steps):\n",
    "        batch_x, batch_y = mnist.train.next_batch(batch_size)\n",
    "        sess.run(train_op, feed_dict={X: batch_x, Y: batch_y})\n",
    "        if step % 1000 == 0:\n",
    "            train_loss, train_acc = sess.run([loss, accuracy], feed_dict={X: batch_x,Y: batch_y})\n",
    "            print(\"step \" + str(step) + \", training loss= \" + str(train_loss) +\", training acc= \"+str(train_acc*100)+\"%\")\n",
    "\n",
    "    print(\"Test acc=\",str(sess.run(accuracy*100, feed_dict={X: mnist.test.images,Y: mnist.test.labels})), \"%\")"
   ]
  },
  {
   "cell_type": "markdown",
   "metadata": {
    "deletable": true,
    "editable": true
   },
   "source": [
    "1) Increase the number of neurons in the hidden layer to 128, 256, 512 and 1024. Plot the training loss and test accuracy vs the number of neurons (in two separate plots)."
   ]
  },
  {
   "cell_type": "markdown",
   "metadata": {},
   "source": [
    "#### Using Linear Activation"
   ]
  },
  {
   "cell_type": "code",
   "execution_count": 22,
   "metadata": {
    "collapsed": false,
    "scrolled": true
   },
   "outputs": [
    {
     "name": "stdout",
     "output_type": "stream",
     "text": [
      "step 0, training loss= 85.50122, training acc= 28.125%\n",
      "step 1000, training loss= 1.2586066, training acc= 90.625%\n",
      "step 2000, training loss= 0.245331, training acc= 96.875%\n",
      "step 3000, training loss= 0.060221016, training acc= 98.4375%\n",
      "step 4000, training loss= 0.15330584, training acc= 98.4375%\n",
      "step 5000, training loss= 0.4842568, training acc= 92.1875%\n",
      "step 6000, training loss= 0.20132288, training acc= 96.875%\n",
      "step 7000, training loss= 0.051364806, training acc= 98.4375%\n",
      "step 8000, training loss= 0.025713691, training acc= 100.0%\n",
      "step 9000, training loss= 0.0048648366, training acc= 100.0%\n",
      "Test acc= 88.020004 %\n",
      "==================================================\n",
      "step 0, training loss= 147.56612, training acc= 29.6875%\n",
      "step 1000, training loss= 1.5725528, training acc= 95.3125%\n",
      "step 2000, training loss= 0.65793234, training acc= 98.4375%\n",
      "step 3000, training loss= 0.7999196, training acc= 89.0625%\n",
      "step 4000, training loss= 0.3910125, training acc= 93.75%\n",
      "step 5000, training loss= 0.6504918, training acc= 93.75%\n",
      "step 6000, training loss= 0.3277956, training acc= 98.4375%\n",
      "step 7000, training loss= 0.0010339434, training acc= 100.0%\n",
      "step 8000, training loss= 0.15221018, training acc= 98.4375%\n",
      "step 9000, training loss= 0.26589933, training acc= 96.875%\n",
      "Test acc= 88.35 %\n",
      "==================================================\n",
      "step 0, training loss= 158.15213, training acc= 39.0625%\n",
      "step 1000, training loss= 5.866719, training acc= 93.75%\n",
      "step 2000, training loss= 4.0367775, training acc= 98.4375%\n",
      "step 3000, training loss= 3.3142176, training acc= 93.75%\n",
      "step 4000, training loss= 2.1295702, training acc= 93.75%\n",
      "step 5000, training loss= 2.813836, training acc= 95.3125%\n",
      "step 6000, training loss= 0.46507058, training acc= 96.875%\n",
      "step 7000, training loss= 0.5469628, training acc= 95.3125%\n",
      "step 8000, training loss= 0.1432095, training acc= 98.4375%\n",
      "step 9000, training loss= 4.749044e-06, training acc= 100.0%\n",
      "Test acc= 88.25 %\n",
      "==================================================\n",
      "step 0, training loss= 657.7821, training acc= 31.25%\n",
      "step 1000, training loss= 6.9845243, training acc= 95.3125%\n",
      "step 2000, training loss= 5.252612, training acc= 92.1875%\n",
      "step 3000, training loss= 0.9694073, training acc= 98.4375%\n",
      "step 4000, training loss= 0.6788111, training acc= 95.3125%\n",
      "step 5000, training loss= 0.5880853, training acc= 96.875%\n",
      "step 6000, training loss= 0.45473552, training acc= 98.4375%\n",
      "step 7000, training loss= 1.1569176, training acc= 98.4375%\n",
      "step 8000, training loss= 0.73539686, training acc= 98.4375%\n",
      "step 9000, training loss= 0.59811944, training acc= 98.4375%\n",
      "Test acc= 87.6 %\n",
      "==================================================\n"
     ]
    }
   ],
   "source": [
    "## Building the graph\n",
    "hid_neuron = [128, 256, 512, 1024]\n",
    "num_steps = 10000\n",
    "batch_size = 64\n",
    "train_losses = []\n",
    "test_acc = []\n",
    "for h in hid_neuron:\n",
    "    num_hidden_neurons=h\n",
    "    learning_rate = 0.1\n",
    "\n",
    "\n",
    "    X = tf.placeholder(\"float\", [None, 784])\n",
    "    Y = tf.placeholder(\"float\", [None, 10])\n",
    "    weights = {\n",
    "        'h1': tf.Variable(tf.random_normal([784, num_hidden_neurons])),\n",
    "        'out': tf.Variable(tf.random_normal([num_hidden_neurons, 10]))\n",
    "    }\n",
    "    biases = {\n",
    "        'b1': tf.Variable(tf.random_normal([num_hidden_neurons])),\n",
    "        'out': tf.Variable(tf.random_normal([10]))\n",
    "    }\n",
    "    def neural_net(x):\n",
    "        layer_1 = tf.add(tf.matmul(x, weights['h1']), biases['b1'])\n",
    "#         layer_1 = tf.nn.relu(layer_1)\n",
    "        out_layer = tf.matmul(layer_1, weights['out']) + biases['out']\n",
    "        return out_layer\n",
    "\n",
    "    loss = tf.reduce_mean(tf.nn.softmax_cross_entropy_with_logits(logits=neural_net(X), labels=Y))\n",
    "    optimizer = tf.train.GradientDescentOptimizer(learning_rate=learning_rate)\n",
    "    train_op = optimizer.minimize(loss)\n",
    "    correct_pred = tf.equal(tf.argmax(neural_net(X), 1), tf.argmax(Y, 1))\n",
    "    accuracy = tf.reduce_mean(tf.cast(correct_pred, tf.float32))\n",
    "\n",
    "    ### Initialization and running the model\n",
    "    with tf.Session() as sess:\n",
    "        sess.run(tf.global_variables_initializer())\n",
    "\n",
    "        for step in range(0, num_steps):\n",
    "            batch_x, batch_y = mnist.train.next_batch(batch_size)\n",
    "            sess.run(train_op, feed_dict={X: batch_x, Y: batch_y})\n",
    "            if step % 1000 == 0:\n",
    "                train_loss, train_acc = sess.run([loss, accuracy], feed_dict={X: batch_x,Y: batch_y})\n",
    "                print(\"step \" + str(step) + \", training loss= \" + str(train_loss) +\", training acc= \"+str(train_acc*100)+\"%\")\n",
    "        this_test_acc = sess.run(accuracy*100, feed_dict={X: mnist.test.images,Y: mnist.test.labels})\n",
    "        test_acc.append(this_test_acc)\n",
    "        train_losses.append(train_loss)\n",
    "        print(\"Test acc=\",str(sess.run(accuracy*100, feed_dict={X: mnist.test.images,Y: mnist.test.labels})), \"%\")\n",
    "        print(\"=\"*50)"
   ]
  },
  {
   "cell_type": "code",
   "execution_count": 23,
   "metadata": {
    "collapsed": false
   },
   "outputs": [
    {
     "data": {
      "image/png": "[encoded data removed]",
      "text/plain": [
       "<matplotlib.figure.Figure at 0x2d39b684160>"
      ]
     },
     "metadata": {},
     "output_type": "display_data"
    }
   ],
   "source": [
    "plt.plot(hid_neuron, train_losses, 'k-')\n",
    "plt.xlabel('hidden neuron')\n",
    "plt.ylabel('Train loss')\n",
    "plt.title('Train_loss vs hidden neuron')\n",
    "plt.show()"
   ]
  },
  {
   "cell_type": "code",
   "execution_count": 24,
   "metadata": {
    "collapsed": false
   },
   "outputs": [
    {
     "data": {
      "image/png": "[encoded data removed]",
      "text/plain": [
       "<matplotlib.figure.Figure at 0x2d39d2945f8>"
      ]
     },
     "metadata": {},
     "output_type": "display_data"
    }
   ],
   "source": [
    "plt.plot(hid_neuron, test_acc, 'k-')\n",
    "plt.xlabel('hidden neuron')\n",
    "plt.ylabel('Test accuracy')\n",
    "plt.title('Test accuracy vs hidden neuron')\n",
    "plt.show()"
   ]
  },
  {
   "cell_type": "markdown",
   "metadata": {},
   "source": [
    "##### Using Relu Activation"
   ]
  },
  {
   "cell_type": "code",
   "execution_count": 5,
   "metadata": {
    "collapsed": false,
    "deletable": true,
    "editable": true,
    "scrolled": true
   },
   "outputs": [
    {
     "name": "stdout",
     "output_type": "stream",
     "text": [
      "step 0, training loss= 58.53575, training acc= 29.6875%\n",
      "step 1000, training loss= 0.3709979, training acc= 93.75%\n",
      "step 2000, training loss= 0.1489338, training acc= 95.3125%\n",
      "step 3000, training loss= 0.42726046, training acc= 92.1875%\n",
      "step 4000, training loss= 0.24713716, training acc= 93.75%\n",
      "step 5000, training loss= 0.24031404, training acc= 96.875%\n",
      "step 6000, training loss= 0.21713138, training acc= 93.75%\n",
      "step 7000, training loss= 0.063854076, training acc= 98.4375%\n",
      "step 8000, training loss= 0.071200944, training acc= 98.4375%\n",
      "step 9000, training loss= 0.01822501, training acc= 100.0%\n",
      "Test acc= 92.72 %\n",
      "==================================================\n",
      "step 0, training loss= 87.995544, training acc= 15.625%\n",
      "step 1000, training loss= 2.3018434, training acc= 93.75%\n",
      "step 2000, training loss= 0.00980527, training acc= 100.0%\n",
      "step 3000, training loss= 0.00078797166, training acc= 100.0%\n",
      "step 4000, training loss= 0.04829496, training acc= 96.875%\n",
      "step 5000, training loss= 0.0011190504, training acc= 100.0%\n",
      "step 6000, training loss= 0.013096315, training acc= 98.4375%\n",
      "step 7000, training loss= 0.0036462774, training acc= 100.0%\n",
      "step 8000, training loss= 0.0061788857, training acc= 100.0%\n",
      "step 9000, training loss= 0.0019371236, training acc= 100.0%\n",
      "Test acc= 94.07 %\n",
      "==================================================\n",
      "step 0, training loss= 175.82144, training acc= 28.125%\n",
      "step 1000, training loss= 0.0005119764, training acc= 100.0%\n",
      "step 2000, training loss= 8.260975e-05, training acc= 100.0%\n",
      "step 3000, training loss= 1.0803317e-07, training acc= 100.0%\n",
      "step 4000, training loss= 0.41602463, training acc= 96.875%\n",
      "step 5000, training loss= 0.2828211, training acc= 98.4375%\n",
      "step 6000, training loss= 3.725286e-08, training acc= 100.0%\n",
      "step 7000, training loss= 9.126934e-08, training acc= 100.0%\n",
      "step 8000, training loss= 2.7211563e-05, training acc= 100.0%\n",
      "step 9000, training loss= 0.000200043, training acc= 100.0%\n",
      "Test acc= 95.47 %\n",
      "==================================================\n",
      "step 0, training loss= 330.52603, training acc= 31.25%\n",
      "step 1000, training loss= 0.09630416, training acc= 96.875%\n",
      "step 2000, training loss= 0.0016482803, training acc= 100.0%\n",
      "step 3000, training loss= 4.6172954e-05, training acc= 100.0%\n",
      "step 4000, training loss= 0.21943666, training acc= 98.4375%\n",
      "step 5000, training loss= 7.9905436e-07, training acc= 100.0%\n",
      "step 6000, training loss= 0.0, training acc= 100.0%\n",
      "step 7000, training loss= 0.0, training acc= 100.0%\n",
      "step 8000, training loss= 0.000111061774, training acc= 100.0%\n",
      "step 9000, training loss= 0.0, training acc= 100.0%\n",
      "Test acc= 96.16 %\n",
      "==================================================\n"
     ]
    }
   ],
   "source": [
    "## Building the graph\n",
    "hid_neuron = [128, 256, 512, 1024]\n",
    "num_steps = 10000\n",
    "batch_size = 64\n",
    "train_losses = []\n",
    "test_acc = []\n",
    "for h in hid_neuron:\n",
    "    num_hidden_neurons=h\n",
    "    learning_rate = 0.1\n",
    "\n",
    "\n",
    "    X = tf.placeholder(\"float\", [None, 784])\n",
    "    Y = tf.placeholder(\"float\", [None, 10])\n",
    "    weights = {\n",
    "        'h1': tf.Variable(tf.random_normal([784, num_hidden_neurons])),\n",
    "        'out': tf.Variable(tf.random_normal([num_hidden_neurons, 10]))\n",
    "    }\n",
    "    biases = {\n",
    "        'b1': tf.Variable(tf.random_normal([num_hidden_neurons])),\n",
    "        'out': tf.Variable(tf.random_normal([10]))\n",
    "    }\n",
    "    def neural_net(x):\n",
    "        layer_1 = tf.add(tf.matmul(x, weights['h1']), biases['b1'])\n",
    "        layer_1 = tf.nn.relu(layer_1)\n",
    "        out_layer = tf.matmul(layer_1, weights['out']) + biases['out']\n",
    "        return out_layer\n",
    "\n",
    "    loss = tf.reduce_mean(tf.nn.softmax_cross_entropy_with_logits(logits=neural_net(X), labels=Y))\n",
    "    optimizer = tf.train.GradientDescentOptimizer(learning_rate=learning_rate)\n",
    "    train_op = optimizer.minimize(loss)\n",
    "    correct_pred = tf.equal(tf.argmax(neural_net(X), 1), tf.argmax(Y, 1))\n",
    "    accuracy = tf.reduce_mean(tf.cast(correct_pred, tf.float32))\n",
    "\n",
    "    ### Initialization and running the model\n",
    "    with tf.Session() as sess:\n",
    "        sess.run(tf.global_variables_initializer())\n",
    "\n",
    "        for step in range(0, num_steps):\n",
    "            batch_x, batch_y = mnist.train.next_batch(batch_size)\n",
    "            sess.run(train_op, feed_dict={X: batch_x, Y: batch_y})\n",
    "            if step % 1000 == 0:\n",
    "                train_loss, train_acc = sess.run([loss, accuracy], feed_dict={X: batch_x,Y: batch_y})\n",
    "                print(\"step \" + str(step) + \", training loss= \" + str(train_loss) +\", training acc= \"+str(train_acc*100)+\"%\")\n",
    "        this_test_acc = sess.run(accuracy*100, feed_dict={X: mnist.test.images,Y: mnist.test.labels})\n",
    "        test_acc.append(this_test_acc)\n",
    "        train_losses.append(train_loss)\n",
    "        print(\"Test acc=\",str(sess.run(accuracy*100, feed_dict={X: mnist.test.images,Y: mnist.test.labels})), \"%\")\n",
    "        print(\"=\"*50)"
   ]
  },
  {
   "cell_type": "code",
   "execution_count": 6,
   "metadata": {
    "collapsed": false,
    "deletable": true,
    "editable": true
   },
   "outputs": [
    {
     "data": {
      "text/plain": [
       "[0.01822501, 0.0019371236, 0.000200043, 0.0]"
      ]
     },
     "execution_count": 6,
     "metadata": {},
     "output_type": "execute_result"
    }
   ],
   "source": [
    "train_losses"
   ]
  },
  {
   "cell_type": "code",
   "execution_count": 7,
   "metadata": {
    "collapsed": false
   },
   "outputs": [
    {
     "data": {
      "image/png": "[encoded data removed]",
      "text/plain": [
       "<matplotlib.figure.Figure at 0x2d398dcc3c8>"
      ]
     },
     "metadata": {},
     "output_type": "display_data"
    }
   ],
   "source": [
    "plt.plot(hid_neuron, train_losses, 'k-')\n",
    "plt.xlabel('hidden neuron')\n",
    "plt.ylabel('Train loss')\n",
    "plt.title('Train_loss vs hidden neuron')\n",
    "plt.show()"
   ]
  },
  {
   "cell_type": "code",
   "execution_count": 8,
   "metadata": {
    "collapsed": false
   },
   "outputs": [
    {
     "data": {
      "image/png": "[encoded data removed]",
      "text/plain": [
       "<matplotlib.figure.Figure at 0x2d3993fc5f8>"
      ]
     },
     "metadata": {},
     "output_type": "display_data"
    }
   ],
   "source": [
    "plt.plot(hid_neuron, test_acc, 'k-')\n",
    "plt.xlabel('hidden neuron')\n",
    "plt.ylabel('Test accuracy')\n",
    "plt.title('Test accuracy vs hidden neuron')\n",
    "plt.show()"
   ]
  },
  {
   "cell_type": "code",
   "execution_count": null,
   "metadata": {
    "collapsed": true
   },
   "outputs": [],
   "source": []
  },
  {
   "cell_type": "markdown",
   "metadata": {
    "deletable": true,
    "editable": true
   },
   "source": [
    "##### Using sigmoid activation function"
   ]
  },
  {
   "cell_type": "code",
   "execution_count": 5,
   "metadata": {
    "collapsed": false,
    "deletable": true,
    "editable": true,
    "scrolled": true
   },
   "outputs": [
    {
     "name": "stdout",
     "output_type": "stream",
     "text": [
      "step 0, training loss= 11.754271, training acc= 7.8125%\n",
      "step 1000, training loss= 0.5024231, training acc= 81.25%\n",
      "step 2000, training loss= 0.53339285, training acc= 78.125%\n",
      "step 3000, training loss= 0.7263667, training acc= 81.25%\n",
      "step 4000, training loss= 0.17920521, training acc= 92.1875%\n",
      "step 5000, training loss= 0.1850318, training acc= 93.75%\n",
      "step 6000, training loss= 0.27878964, training acc= 90.625%\n",
      "step 7000, training loss= 0.3488502, training acc= 87.5%\n",
      "step 8000, training loss= 0.33271682, training acc= 90.625%\n",
      "step 9000, training loss= 0.21924496, training acc= 93.75%\n",
      "Test acc= 90.76 %\n",
      "==================================================\n",
      "step 0, training loss= 14.850653, training acc= 9.375%\n",
      "step 1000, training loss= 0.88102746, training acc= 84.375%\n",
      "step 2000, training loss= 0.21092185, training acc= 90.625%\n",
      "step 3000, training loss= 0.19666657, training acc= 95.3125%\n",
      "step 4000, training loss= 0.8329684, training acc= 85.9375%\n",
      "step 5000, training loss= 0.5321032, training acc= 89.0625%\n",
      "step 6000, training loss= 0.38727552, training acc= 90.625%\n",
      "step 7000, training loss= 0.4848961, training acc= 87.5%\n",
      "step 8000, training loss= 0.10822961, training acc= 95.3125%\n",
      "step 9000, training loss= 0.12843527, training acc= 95.3125%\n",
      "Test acc= 91.259995 %\n",
      "==================================================\n",
      "step 0, training loss= 20.200005, training acc= 21.875%\n",
      "step 1000, training loss= 0.54164845, training acc= 89.0625%\n",
      "step 2000, training loss= 0.72753763, training acc= 85.9375%\n",
      "step 3000, training loss= 0.3449667, training acc= 93.75%\n",
      "step 4000, training loss= 0.47440147, training acc= 89.0625%\n",
      "step 5000, training loss= 0.2517298, training acc= 93.75%\n",
      "step 6000, training loss= 0.06807721, training acc= 98.4375%\n",
      "step 7000, training loss= 0.14716077, training acc= 95.3125%\n",
      "step 8000, training loss= 0.14286226, training acc= 95.3125%\n",
      "step 9000, training loss= 0.13024324, training acc= 96.875%\n",
      "Test acc= 91.79 %\n",
      "==================================================\n",
      "step 0, training loss= 31.980398, training acc= 10.9375%\n",
      "step 1000, training loss= 1.0555999, training acc= 92.1875%\n",
      "step 2000, training loss= 1.0355422, training acc= 87.5%\n",
      "step 3000, training loss= 0.2204414, training acc= 96.875%\n",
      "step 4000, training loss= 0.37858656, training acc= 93.75%\n",
      "step 5000, training loss= 0.09502859, training acc= 98.4375%\n",
      "step 6000, training loss= 0.32467687, training acc= 96.875%\n",
      "step 7000, training loss= 0.28485942, training acc= 96.875%\n",
      "step 8000, training loss= 0.021418544, training acc= 100.0%\n",
      "step 9000, training loss= 0.029038545, training acc= 100.0%\n",
      "Test acc= 92.43 %\n",
      "==================================================\n"
     ]
    }
   ],
   "source": [
    "## Building the graph\n",
    "hid_neuron = [128, 256, 512, 1024]\n",
    "num_steps = 10000\n",
    "batch_size = 64\n",
    "train_losses = []\n",
    "test_acc = []\n",
    "for h in hid_neuron:\n",
    "    num_hidden_neurons=h\n",
    "    learning_rate = 0.1\n",
    "\n",
    "\n",
    "    X = tf.placeholder(\"float\", [None, 784])\n",
    "    Y = tf.placeholder(\"float\", [None, 10])\n",
    "    weights = {\n",
    "        'h1': tf.Variable(tf.random_normal([784, num_hidden_neurons])),\n",
    "        'out': tf.Variable(tf.random_normal([num_hidden_neurons, 10]))\n",
    "    }\n",
    "    biases = {\n",
    "        'b1': tf.Variable(tf.random_normal([num_hidden_neurons])),\n",
    "        'out': tf.Variable(tf.random_normal([10]))\n",
    "    }\n",
    "    def neural_net(x):\n",
    "        layer_1 = tf.add(tf.matmul(x, weights['h1']), biases['b1'])\n",
    "        layer_1 = tf.nn.sigmoid(layer_1)\n",
    "        out_layer = tf.matmul(layer_1, weights['out']) + biases['out']\n",
    "        return out_layer\n",
    "\n",
    "    loss = tf.reduce_mean(tf.nn.softmax_cross_entropy_with_logits(logits=neural_net(X), labels=Y))\n",
    "    optimizer = tf.train.GradientDescentOptimizer(learning_rate=learning_rate)\n",
    "    train_op = optimizer.minimize(loss)\n",
    "    correct_pred = tf.equal(tf.argmax(neural_net(X), 1), tf.argmax(Y, 1))\n",
    "    accuracy = tf.reduce_mean(tf.cast(correct_pred, tf.float32))\n",
    "\n",
    "    ### Initialization and running the model\n",
    "    with tf.Session() as sess:\n",
    "        sess.run(tf.global_variables_initializer())\n",
    "\n",
    "        for step in range(0, num_steps):\n",
    "            batch_x, batch_y = mnist.train.next_batch(batch_size)\n",
    "            sess.run(train_op, feed_dict={X: batch_x, Y: batch_y})\n",
    "            if step % 1000 == 0:\n",
    "                train_loss, train_acc = sess.run([loss, accuracy], feed_dict={X: batch_x,Y: batch_y})\n",
    "                print(\"step \" + str(step) + \", training loss= \" + str(train_loss) +\", training acc= \"+str(train_acc*100)+\"%\")\n",
    "        this_test_acc = sess.run(accuracy*100, feed_dict={X: mnist.test.images,Y: mnist.test.labels})\n",
    "        test_acc.append(this_test_acc)\n",
    "        train_losses.append(train_loss)\n",
    "        print(\"Test acc=\",str(sess.run(accuracy*100, feed_dict={X: mnist.test.images,Y: mnist.test.labels})), \"%\")\n",
    "        print(\"=\"*50)"
   ]
  },
  {
   "cell_type": "code",
   "execution_count": 6,
   "metadata": {
    "collapsed": false,
    "deletable": true,
    "editable": true
   },
   "outputs": [
    {
     "data": {
      "text/plain": [
       "[0.21924496, 0.12843527, 0.13024324, 0.029038545]"
      ]
     },
     "execution_count": 6,
     "metadata": {},
     "output_type": "execute_result"
    }
   ],
   "source": [
    "train_losses"
   ]
  },
  {
   "cell_type": "code",
   "execution_count": 7,
   "metadata": {
    "collapsed": false,
    "deletable": true,
    "editable": true
   },
   "outputs": [
    {
     "data": {
      "image/png": "[encoded data removed]",
      "text/plain": [
       "<matplotlib.figure.Figure at 0x2072e171ef0>"
      ]
     },
     "metadata": {},
     "output_type": "display_data"
    }
   ],
   "source": [
    "plt.plot(hid_neuron, train_losses, 'k-')\n",
    "plt.xlabel('hidden neuron')\n",
    "plt.ylabel('Train loss')\n",
    "plt.title('Train_loss vs hidden neuron')\n",
    "plt.show()"
   ]
  },
  {
   "cell_type": "code",
   "execution_count": 8,
   "metadata": {
    "collapsed": false,
    "deletable": true,
    "editable": true
   },
   "outputs": [
    {
     "data": {
      "image/png": "[encoded data removed]",
      "text/plain": [
       "<matplotlib.figure.Figure at 0x2072e171e80>"
      ]
     },
     "metadata": {},
     "output_type": "display_data"
    }
   ],
   "source": [
    "plt.plot(hid_neuron, test_acc, 'k-')\n",
    "plt.xlabel('hidden neuron')\n",
    "plt.ylabel('Test accuracy')\n",
    "plt.title('Test accuracy vs hidden neuron')\n",
    "plt.show()"
   ]
  },
  {
   "cell_type": "markdown",
   "metadata": {
    "deletable": true,
    "editable": true
   },
   "source": [
    "2) Inspired by the code above, train a MLP with 3 layers, the first layer with 64, the second layer with 128 and the final hidden layer with 256 neurons, respectively. Report the training and test accuracies."
   ]
  },
  {
   "cell_type": "code",
   "execution_count": 25,
   "metadata": {
    "collapsed": false,
    "deletable": true,
    "editable": true,
    "scrolled": true
   },
   "outputs": [
    {
     "name": "stdout",
     "output_type": "stream",
     "text": [
      "step 0, training loss= 12.150507, training acc= 12.5%\n",
      "step 1000, training loss= 0.41335088, training acc= 89.0625%\n",
      "step 2000, training loss= 0.36334664, training acc= 81.25%\n",
      "step 3000, training loss= 0.4254576, training acc= 87.5%\n",
      "step 4000, training loss= 0.24153888, training acc= 96.875%\n",
      "step 5000, training loss= 0.20508175, training acc= 95.3125%\n",
      "step 6000, training loss= 0.22992617, training acc= 92.1875%\n",
      "step 7000, training loss= 0.26014394, training acc= 92.1875%\n",
      "step 8000, training loss= 0.20872627, training acc= 93.75%\n",
      "step 9000, training loss= 0.16023499, training acc= 96.875%\n",
      "Test acc= 90.59 %\n",
      "==================================================\n"
     ]
    }
   ],
   "source": [
    "## Building the graph\n",
    "hid_neuron_in_layer = [64, 128, 256]\n",
    "num_steps = 10000\n",
    "batch_size = 64\n",
    "train_losses = []\n",
    "test_acc = []\n",
    "learning_rate = 0.1\n",
    "\n",
    "X = tf.placeholder(\"float\", [None, 784])\n",
    "Y = tf.placeholder(\"float\", [None, 10])\n",
    "weights = {\n",
    "    'h1': tf.Variable(tf.random_normal([784, hid_neuron_in_layer[0]])),\n",
    "    'h2': tf.Variable(tf.random_normal([hid_neuron_in_layer[0], hid_neuron_in_layer[1]])),\n",
    "    'h3': tf.Variable(tf.random_normal([hid_neuron_in_layer[1], hid_neuron_in_layer[2]])),\n",
    "    'out': tf.Variable(tf.random_normal([hid_neuron_in_layer[2], 10]))\n",
    "}\n",
    "biases = {\n",
    "    'b1': tf.Variable(tf.random_normal([hid_neuron_in_layer[0]])),\n",
    "    'b2': tf.Variable(tf.random_normal([hid_neuron_in_layer[1]])),\n",
    "    'b3': tf.Variable(tf.random_normal([hid_neuron_in_layer[2]])),\n",
    "    'out': tf.Variable(tf.random_normal([10]))\n",
    "}\n",
    "def neural_net(x):\n",
    "    layer_1 = tf.add(tf.matmul(x, weights['h1']), biases['b1'])\n",
    "    layer_1 = tf.nn.sigmoid(layer_1)\n",
    "    layer_2 = tf.add(tf.matmul(layer_1, weights['h2']), biases['b2'])\n",
    "    layer_2 = tf.nn.sigmoid(layer_2)\n",
    "    layer_3 = tf.add(tf.matmul(layer_2, weights['h3']), biases['b3'])\n",
    "    layer_3 = tf.nn.sigmoid(layer_3)\n",
    "    out_layer = tf.matmul(layer_3, weights['out']) + biases['out']\n",
    "    return out_layer\n",
    "\n",
    "loss = tf.reduce_mean(tf.nn.softmax_cross_entropy_with_logits(logits=neural_net(X), labels=Y))\n",
    "optimizer = tf.train.GradientDescentOptimizer(learning_rate=learning_rate)\n",
    "train_op = optimizer.minimize(loss)\n",
    "correct_pred = tf.equal(tf.argmax(neural_net(X), 1), tf.argmax(Y, 1))\n",
    "accuracy = tf.reduce_mean(tf.cast(correct_pred, tf.float32))\n",
    "\n",
    "### Initialization and running the model\n",
    "with tf.Session() as sess:\n",
    "    sess.run(tf.global_variables_initializer())\n",
    "\n",
    "    for step in range(0, num_steps):\n",
    "        batch_x, batch_y = mnist.train.next_batch(batch_size)\n",
    "        sess.run(train_op, feed_dict={X: batch_x, Y: batch_y})\n",
    "        if step % 1000 == 0:\n",
    "            train_loss, train_acc = sess.run([loss, accuracy], feed_dict={X: batch_x,Y: batch_y})\n",
    "            print(\"step \" + str(step) + \", training loss= \" + str(train_loss) +\", training acc= \"+str(train_acc*100)+\"%\")\n",
    "    this_test_acc = sess.run(accuracy*100, feed_dict={X: mnist.test.images,Y: mnist.test.labels})\n",
    "    test_acc.append(this_test_acc)\n",
    "    train_losses.append(train_loss)\n",
    "    print(\"Test acc=\",str(sess.run(accuracy*100, feed_dict={X: mnist.test.images,Y: mnist.test.labels})), \"%\")\n",
    "    print(\"=\"*50)"
   ]
  },
  {
   "cell_type": "markdown",
   "metadata": {
    "deletable": true,
    "editable": true
   },
   "source": [
    "#### Train accuracy is 96.875% and Test accuracy is 90.59% "
   ]
  },
  {
   "cell_type": "code",
   "execution_count": null,
   "metadata": {
    "collapsed": true,
    "deletable": true,
    "editable": true
   },
   "outputs": [],
   "source": []
  },
  {
   "cell_type": "markdown",
   "metadata": {
    "deletable": true,
    "editable": true
   },
   "source": [
    "3) Plot the training / test accuracy for when learning rate is {100, 10, 1, 0.1, 0.01, and 0.001}. Interpret the results."
   ]
  },
  {
   "cell_type": "code",
   "execution_count": 11,
   "metadata": {
    "collapsed": false,
    "deletable": true,
    "editable": true,
    "scrolled": true
   },
   "outputs": [
    {
     "name": "stdout",
     "output_type": "stream",
     "text": [
      "step 0, training loss= 10.909701, training acc= 6.25%\n",
      "step 1000, training loss= 5.312002, training acc= 10.9375%\n",
      "step 2000, training loss= 3.564157, training acc= 20.3125%\n",
      "step 3000, training loss= 3.7913523, training acc= 18.75%\n",
      "step 4000, training loss= 2.792764, training acc= 34.375%\n",
      "step 5000, training loss= 2.107071, training acc= 46.875%\n",
      "step 6000, training loss= 2.546255, training acc= 35.9375%\n",
      "step 7000, training loss= 1.8896507, training acc= 40.625%\n",
      "step 8000, training loss= 1.5763865, training acc= 54.6875%\n",
      "step 9000, training loss= 2.040928, training acc= 42.1875%\n",
      "Test acc= 49.03 %\n",
      "==================================================\n",
      "step 0, training loss= 20.841478, training acc= 7.8125%\n",
      "step 1000, training loss= 1.8860003, training acc= 51.5625%\n",
      "step 2000, training loss= 1.3344455, training acc= 56.25%\n",
      "step 3000, training loss= 0.8789431, training acc= 71.875%\n",
      "step 4000, training loss= 1.257575, training acc= 65.625%\n",
      "step 5000, training loss= 0.69591045, training acc= 81.25%\n",
      "step 6000, training loss= 0.79009235, training acc= 76.5625%\n",
      "step 7000, training loss= 0.66694725, training acc= 79.6875%\n",
      "step 8000, training loss= 0.68461144, training acc= 71.875%\n",
      "step 9000, training loss= 0.5564538, training acc= 84.375%\n",
      "Test acc= 78.33 %\n",
      "==================================================\n",
      "step 0, training loss= 16.416145, training acc= 12.5%\n",
      "step 1000, training loss= 0.40733454, training acc= 89.0625%\n",
      "step 2000, training loss= 0.36956757, training acc= 90.625%\n",
      "step 3000, training loss= 0.41571257, training acc= 87.5%\n",
      "step 4000, training loss= 0.35962453, training acc= 89.0625%\n",
      "step 5000, training loss= 0.37640104, training acc= 84.375%\n",
      "step 6000, training loss= 0.19481051, training acc= 93.75%\n",
      "step 7000, training loss= 0.16054204, training acc= 93.75%\n",
      "step 8000, training loss= 0.09400926, training acc= 96.875%\n",
      "step 9000, training loss= 0.083382934, training acc= 98.4375%\n",
      "Test acc= 91.18 %\n",
      "==================================================\n",
      "step 0, training loss= 18.438852, training acc= 18.75%\n",
      "step 1000, training loss= 0.16150129, training acc= 96.875%\n",
      "step 2000, training loss= 0.10407862, training acc= 96.875%\n",
      "step 3000, training loss= 0.0467227, training acc= 98.4375%\n",
      "step 4000, training loss= 0.07316893, training acc= 98.4375%\n",
      "step 5000, training loss= 0.026571997, training acc= 100.0%\n",
      "step 6000, training loss= 0.04496058, training acc= 98.4375%\n",
      "step 7000, training loss= 0.012634298, training acc= 100.0%\n",
      "step 8000, training loss= 0.010221592, training acc= 100.0%\n",
      "step 9000, training loss= 0.054234196, training acc= 98.4375%\n",
      "Test acc= 94.67 %\n",
      "==================================================\n",
      "step 0, training loss= 111.50773, training acc= 15.625%\n",
      "step 1000, training loss= 302.54263, training acc= 7.8125%\n",
      "step 2000, training loss= 340.55334, training acc= 17.1875%\n",
      "step 3000, training loss= 221.71054, training acc= 9.375%\n",
      "step 4000, training loss= 221.94913, training acc= 9.375%\n",
      "step 5000, training loss= 244.01337, training acc= 7.8125%\n",
      "step 6000, training loss= 196.86755, training acc= 9.375%\n",
      "step 7000, training loss= 120.13727, training acc= 10.9375%\n",
      "step 8000, training loss= 225.9714, training acc= 15.625%\n",
      "step 9000, training loss= 139.69827, training acc= 6.25%\n",
      "Test acc= 10.1 %\n",
      "==================================================\n",
      "step 0, training loss= 863.90857, training acc= 14.0625%\n",
      "step 1000, training loss= 5841.8877, training acc= 17.1875%\n",
      "step 2000, training loss= 5127.76, training acc= 9.375%\n",
      "step 3000, training loss= 4089.6465, training acc= 10.9375%\n",
      "step 4000, training loss= 3188.921, training acc= 7.8125%\n",
      "step 5000, training loss= 3790.021, training acc= 14.0625%\n",
      "step 6000, training loss= 3129.6074, training acc= 21.875%\n",
      "step 7000, training loss= 5063.8506, training acc= 6.25%\n",
      "step 8000, training loss= 2765.1611, training acc= 4.6875%\n",
      "step 9000, training loss= 3389.456, training acc= 17.1875%\n",
      "Test acc= 9.8 %\n",
      "==================================================\n"
     ]
    }
   ],
   "source": [
    "lr = [.001, .01, .1, 1, 10, 100]\n",
    "## Building the graph\n",
    "hid_neuron_in_layer = [64, 128, 256]\n",
    "num_steps = 10000\n",
    "batch_size = 64\n",
    "train_accuracy = []\n",
    "test_acc = []\n",
    "for l in lr:\n",
    "    learning_rate = l\n",
    "\n",
    "    X = tf.placeholder(\"float\", [None, 784])\n",
    "    Y = tf.placeholder(\"float\", [None, 10])\n",
    "    weights = {\n",
    "        'h1': tf.Variable(tf.random_normal([784, hid_neuron_in_layer[0]])),\n",
    "        'h2': tf.Variable(tf.random_normal([hid_neuron_in_layer[0], hid_neuron_in_layer[1]])),\n",
    "        'h3': tf.Variable(tf.random_normal([hid_neuron_in_layer[1], hid_neuron_in_layer[2]])),\n",
    "        'out': tf.Variable(tf.random_normal([hid_neuron_in_layer[2], 10]))\n",
    "    }\n",
    "    biases = {\n",
    "        'b1': tf.Variable(tf.random_normal([hid_neuron_in_layer[0]])),\n",
    "        'b2': tf.Variable(tf.random_normal([hid_neuron_in_layer[1]])),\n",
    "        'b3': tf.Variable(tf.random_normal([hid_neuron_in_layer[2]])),\n",
    "        'out': tf.Variable(tf.random_normal([10]))\n",
    "    }\n",
    "    def neural_net(x):\n",
    "        layer_1 = tf.add(tf.matmul(x, weights['h1']), biases['b1'])\n",
    "        layer_1 = tf.nn.sigmoid(layer_1)\n",
    "        layer_2 = tf.add(tf.matmul(layer_1, weights['h2']), biases['b2'])\n",
    "        layer_2 = tf.nn.sigmoid(layer_2)\n",
    "        layer_3 = tf.add(tf.matmul(layer_2, weights['h3']), biases['b3'])\n",
    "        layer_3 = tf.nn.sigmoid(layer_3)\n",
    "        out_layer = tf.matmul(layer_3, weights['out']) + biases['out']\n",
    "        return out_layer\n",
    "\n",
    "    loss = tf.reduce_mean(tf.nn.softmax_cross_entropy_with_logits(logits=neural_net(X), labels=Y))\n",
    "    optimizer = tf.train.GradientDescentOptimizer(learning_rate=learning_rate)\n",
    "    train_op = optimizer.minimize(loss)\n",
    "    correct_pred = tf.equal(tf.argmax(neural_net(X), 1), tf.argmax(Y, 1))\n",
    "    accuracy = tf.reduce_mean(tf.cast(correct_pred, tf.float32))\n",
    "\n",
    "    ### Initialization and running the model\n",
    "    with tf.Session() as sess:\n",
    "        sess.run(tf.global_variables_initializer())\n",
    "\n",
    "        for step in range(0, num_steps):\n",
    "            batch_x, batch_y = mnist.train.next_batch(batch_size)\n",
    "            sess.run(train_op, feed_dict={X: batch_x, Y: batch_y})\n",
    "            if step % 1000 == 0:\n",
    "                train_loss, train_acc = sess.run([loss, accuracy], feed_dict={X: batch_x,Y: batch_y})\n",
    "                print(\"step \" + str(step) + \", training loss= \" + str(train_loss) +\", training acc= \"+str(train_acc*100)+\"%\")\n",
    "        this_test_acc = sess.run(accuracy*100, feed_dict={X: mnist.test.images,Y: mnist.test.labels})\n",
    "        test_acc.append(this_test_acc)\n",
    "        train_accuracy.append(train_acc)\n",
    "        print(\"Test acc=\",str(sess.run(accuracy*100, feed_dict={X: mnist.test.images,Y: mnist.test.labels})), \"%\")\n",
    "        print(\"=\"*50)"
   ]
  },
  {
   "cell_type": "code",
   "execution_count": 20,
   "metadata": {
    "collapsed": false
   },
   "outputs": [
    {
     "data": {
      "text/plain": [
       "[0.421875, 0.84375, 0.984375, 0.984375, 0.0625, 0.171875]"
      ]
     },
     "execution_count": 20,
     "metadata": {},
     "output_type": "execute_result"
    }
   ],
   "source": [
    "train_accuracy"
   ]
  },
  {
   "cell_type": "code",
   "execution_count": 21,
   "metadata": {
    "collapsed": false,
    "deletable": true,
    "editable": true
   },
   "outputs": [
    {
     "data": {
      "image/png": "[encoded data removed]",
      "text/plain": [
       "<matplotlib.figure.Figure at 0x2d39b60c470>"
      ]
     },
     "metadata": {},
     "output_type": "display_data"
    }
   ],
   "source": [
    "plt.plot(np.log10(lr), (100*(np.array(train_accuracy)) ), 'k-')\n",
    "plt.xlabel('log(Learning Rate)')\n",
    "plt.ylabel('(Train accuracy)')\n",
    "plt.title('Train_accuracy vs learning rate')\n",
    "plt.show()"
   ]
  },
  {
   "cell_type": "code",
   "execution_count": 13,
   "metadata": {
    "collapsed": false,
    "deletable": true,
    "editable": true
   },
   "outputs": [
    {
     "data": {
      "text/plain": [
       "[0.421875, 0.84375, 0.984375, 0.984375, 0.0625, 0.171875]"
      ]
     },
     "execution_count": 13,
     "metadata": {},
     "output_type": "execute_result"
    }
   ],
   "source": [
    "train_accuracy"
   ]
  },
  {
   "cell_type": "code",
   "execution_count": 14,
   "metadata": {
    "collapsed": false,
    "deletable": true,
    "editable": true
   },
   "outputs": [
    {
     "data": {
      "text/plain": [
       "[0.001, 0.01, 0.1, 1, 10, 100]"
      ]
     },
     "execution_count": 14,
     "metadata": {},
     "output_type": "execute_result"
    }
   ],
   "source": [
    "lr"
   ]
  },
  {
   "cell_type": "code",
   "execution_count": 15,
   "metadata": {
    "collapsed": false,
    "deletable": true,
    "editable": true
   },
   "outputs": [
    {
     "data": {
      "text/plain": [
       "[49.03, 78.33, 91.18, 94.67, 10.1, 9.8]"
      ]
     },
     "execution_count": 15,
     "metadata": {},
     "output_type": "execute_result"
    }
   ],
   "source": [
    "test_acc"
   ]
  },
  {
   "cell_type": "markdown",
   "metadata": {
    "deletable": true,
    "editable": true
   },
   "source": [
    "####  For low values of learning rates, training is slow therefore it will require more iterations to fit the the training set while for high learning rate , train loss increases while train accuracy decreases indicating the model is unable to fit the training set well. This happens because gradient descent is not able to find minima due to large step size.\n",
    "#### For the given number of iterations, learning rate of 1 has the best performance."
   ]
  },
  {
   "cell_type": "code",
   "execution_count": 17,
   "metadata": {
    "collapsed": false,
    "deletable": true,
    "editable": true
   },
   "outputs": [
    {
     "data": {
      "image/png": "[encoded data removed]",
      "text/plain": [
       "<matplotlib.figure.Figure at 0x2d39b5a1f28>"
      ]
     },
     "metadata": {},
     "output_type": "display_data"
    }
   ],
   "source": [
    "plt.plot(np.log10(lr), test_acc, 'k-')\n",
    "plt.xlabel('log(Learning Rate)')\n",
    "plt.ylabel('test accuracy')\n",
    "plt.title('Test accuracy vs learning rate')\n",
    "plt.show()"
   ]
  },
  {
   "cell_type": "markdown",
   "metadata": {
    "deletable": true,
    "editable": true
   },
   "source": [
    "#### As learning rate increases, train loss decreases indicating the model is able to fit to the training data set well and generalize to the test set leading to an increase in accuracy. For high learning rates, gradient descent is not able to find minima leading  high train loss and low accuracy for train set and hence the test set."
   ]
  },
  {
   "cell_type": "markdown",
   "metadata": {
    "deletable": true,
    "editable": true
   },
   "source": [
    "### 3) Having fun with TensorFlow Playground:"
   ]
  },
  {
   "cell_type": "markdown",
   "metadata": {
    "deletable": true,
    "editable": true
   },
   "source": [
    "Please visit the following link:\n",
    "    http://playground.tensorflow.org/#activation=sigmoid&batchSize=10&dataset=circle&regDataset=regplane&learningRate=1&regularizationRate=0&noise=0&networkShape=&seed=0.93547&showTestData=false&discretize=false&percTrainData=50&x=true&y=false&xTimesY=false&xSquared=false&ySquared=false&cosX=false&sinX=false&cosY=false&sinY=false&collectStats=false&problem=classification&initZero=false&hideText=false\n",
    "        "
   ]
  },
  {
   "cell_type": "markdown",
   "metadata": {
    "deletable": true,
    "editable": true
   },
   "source": [
    "#### For the Circle DATASET:\n",
    "1) Pick the number of hidden layers to be zero. Set the learning rate to be 0.01. Leave all other parameters to their default values. Now, based on the distribution of data, can one single feature out of the available options classify all training data correctly? If so, explain which one and why? If you are only allowed to hand-pick one feature, which one would you pick?"
   ]
  },
  {
   "cell_type": "markdown",
   "metadata": {
    "collapsed": true,
    "deletable": true,
    "editable": true
   },
   "source": [
    "#### A single feature will not be able to classify all the trainng data correctly as none of the features is able to separate the data. Picking up either x1^2 or x2^2 would give the best accuracy as it is able to separate significant amount of data"
   ]
  },
  {
   "cell_type": "code",
   "execution_count": null,
   "metadata": {
    "collapsed": true,
    "deletable": true,
    "editable": true
   },
   "outputs": [],
   "source": []
  },
  {
   "cell_type": "markdown",
   "metadata": {
    "deletable": true,
    "editable": true
   },
   "source": [
    "2) Now, select only the feature x1 (no other features should be selected). Set the learning rate to be 0.01 and train the network. Report the training and test loss? Repeat this for learning rate of 0.03, 0.1, 0.3, 1, 3 and 10, respectively, and explain what happens as you increase the learning rate."
   ]
  },
  {
   "cell_type": "markdown",
   "metadata": {
    "collapsed": true,
    "deletable": true,
    "editable": true
   },
   "source": [
    "##### lr = 0.01; Train Loss = .499, Test Loss = .499\n",
    "##### lr = 0.03; Train Loss = .499, Test Loss = .499\n",
    "##### lr = 0.1; Train Loss = .516, Test Loss = .523\n",
    "##### lr = 0.3; Train Loss = .564, Test Loss = .583\n",
    "##### lr = 1; Train Loss = .611, Test Loss = .633 (oscillation observed)\n",
    "##### lr = 3; Train Loss = .667, Test Loss = .698 (oscillation observed)\n",
    "##### lr = 10; Train Loss = .680, Test Loss = .704  (oscillation observed)"
   ]
  },
  {
   "cell_type": "markdown",
   "metadata": {
    "deletable": true,
    "editable": true
   },
   "source": [
    "#### For low learning rates, train and test loss stabilize to same value of 0.5. This is expected as with x1 feature prediction is as good as random guess. As learning rate is increased, train and test loss increase and oscillations are observed due to gradient descent not converging because of large step size\n"
   ]
  },
  {
   "cell_type": "code",
   "execution_count": null,
   "metadata": {
    "collapsed": true,
    "deletable": true,
    "editable": true
   },
   "outputs": [],
   "source": []
  },
  {
   "cell_type": "markdown",
   "metadata": {
    "deletable": true,
    "editable": true
   },
   "source": [
    "3) Pick only x1 feature. Now, add one hidden layer with two neurons. Set the learning rate to be 0.1 and Activation to be \"ReLU\". Train the network. What training/test loss can you achieve? Repeat this for \"Tanh\", \"Sigmoid\" and \"Linear\". Which activation performs the best? Which one performs the worst? why?"
   ]
  },
  {
   "cell_type": "markdown",
   "metadata": {
    "collapsed": true,
    "deletable": true,
    "editable": true
   },
   "source": [
    "###### Activation - ReLU => Train Loss = .264, Test Loss = .297\n",
    "###### Activation - Tanh => Train Loss = .261, Test Loss = .279\n",
    "###### Activation - Sigmoid => Train Loss = .260, Test Loss = .280\n",
    "###### Activation - Linear => Train Loss = .5, Test Loss = .5\n",
    "\n",
    "###### Tanh performs the best while linear activation performs the worst based on the values for test loss. Linear is expected to have the worst behavior as it does not have any non linearlity and therefore additional layers are of no use as it is not able to learn non linear features. Tanh performs the best  as it adds non linearity for both positive and negative inputs whereas ReLU and Sigmoid only passes positive values."
   ]
  },
  {
   "cell_type": "code",
   "execution_count": null,
   "metadata": {
    "collapsed": true,
    "deletable": true,
    "editable": true
   },
   "outputs": [],
   "source": []
  },
  {
   "cell_type": "markdown",
   "metadata": {
    "deletable": true,
    "editable": true
   },
   "source": [
    "4) Now, pick the activation to be \"sigmoid\" and train your network for more than 600 epochs. Report the final values of weights in the network. Then, pick the regularization to be \"L2\". Set the regularization rate to be \"0.1\". How does the training/test loss change? How about the final value of the learned weights? Repeat the same thing for \"L1\" regularizer and explain how the weights, training and test loss change."
   ]
  },
  {
   "cell_type": "markdown",
   "metadata": {
    "collapsed": true,
    "deletable": true,
    "editable": true
   },
   "source": [
    "##### Sigmoid without Regularization: Weights from input to hidden are -1.2, -2 and weights from hidden to output are 2.9, 3.1. Train Loss = .261, Test Loss = .282\n",
    "\n",
    "##### Sigmoid with L2 Regularization: Weights from input to hidden are -.0028, -0028 and weights from hidden to output are -.0058, -.0059. Train Loss = .5, Test Loss = .5 \n",
    "##### As the regularization rate is high, there is a tradeoff in the objective function and it is not able to assign high weights and these weights are not sufficent to learn the dataset. Train and test loss both increase. \n",
    "\n",
    "##### Sigmoid with L1 Regularization: Weights from input to hidden are 0, 0 and weights from hidden to output are 0, 0. Train Loss = .5, Test Loss = .5\n",
    "##### As the regularization rate is high, there is a tradeoff in the objective function and sparsity. In this case the model produces a sparse solution and assigns 0 weights. Train and test loss stays same as with L2 regularization and are higher than without regularization."
   ]
  },
  {
   "cell_type": "markdown",
   "metadata": {
    "deletable": true,
    "editable": true
   },
   "source": [
    "5) Pick only \"x1\" feature and set the activation to be \"sigmoid\". Set the \"Regularization\" to be \"None\". Now, increase the number of neurons in your hidden layer from 2 to 8. Does increasing the number of parameters (e.g., having more neurons) help with generalization? If so, how much improvement can you acheive?"
   ]
  },
  {
   "cell_type": "markdown",
   "metadata": {
    "collapsed": true,
    "deletable": true,
    "editable": true
   },
   "source": [
    "##### Hidden Layes = 2, train loss = .260, test loss = .281\n",
    "##### Hidden Layes = 3, train loss = .260, test loss = .282\n",
    "##### Hidden Layes = 4, train loss = .259, test loss = .283\n",
    "##### Hidden Layes = 5, train loss = .260, test loss = .283\n",
    "##### Hidden Layes = 6, train loss = .259, test loss = .282\n",
    "##### Hidden Layes = 7, train loss = .259, test loss = .282\n",
    "##### Hidden Layes = 8, train loss = .260, test loss = .283"
   ]
  },
  {
   "cell_type": "markdown",
   "metadata": {
    "deletable": true,
    "editable": true
   },
   "source": [
    "##### Increasing number of neurons, does not help much in generalization. This indicates features extracted in hidden layer with just one input feature is not sufficient to further improve the accuracy."
   ]
  },
  {
   "cell_type": "markdown",
   "metadata": {
    "deletable": true,
    "editable": true
   },
   "source": [
    "6) Now, increase the number of hidden layers to two, each with 8 neurons. Report the training/test loss after convergence. Does this help with generalization?"
   ]
  },
  {
   "cell_type": "markdown",
   "metadata": {
    "collapsed": true,
    "deletable": true,
    "editable": true
   },
   "source": [
    "#### Train Loss: 0.259, Test Loss: 0.280. This also doesn't help with generalization."
   ]
  },
  {
   "cell_type": "markdown",
   "metadata": {
    "deletable": true,
    "editable": true
   },
   "source": [
    "7) Now you are free to choose any training setup you want (e.g., the network width and depth, learning rate, activation function, regularization, etc.) but your network cannot have more than 6 weights in total. Construct a network that can achieve 0 training loss. Explain your setup and copy the url of the network you constructed (just copy-past the url of web-page you are at)."
   ]
  },
  {
   "cell_type": "markdown",
   "metadata": {
    "deletable": true,
    "editable": true
   },
   "source": [
    "#### Setup: Choose x1^2 and x2^2 features so that data becomes separable. Use single hidden layer with 1 neuron which connects to output.  Loss goes to zero after ~1500 epochs. \n",
    "#### Tanh activation was used so it passes both positive and negative values along with L1 regularization so as to generalize to test data (although this may not be needed as we are minimizing train loss)."
   ]
  },
  {
   "cell_type": "markdown",
   "metadata": {
    "collapsed": true,
    "deletable": true,
    "editable": true
   },
   "source": [
    "http://playground.tensorflow.org/#activation=tanh&regularization=L1&batchSize=10&dataset=circle&regDataset=reg-plane&learningRate=0.01&regularizationRate=0.001&noise=0&networkShape=1&seed=0.93547&showTestData=false&discretize=false&percTrainData=50&x=false&y=false&xTimesY=false&xSquared=true&ySquared=true&cosX=false&sinX=false&cosY=false&sinY=false&collectStats=false&problem=classification&initZero=false&hideText=false"
   ]
  },
  {
   "cell_type": "markdown",
   "metadata": {
    "deletable": true,
    "editable": true
   },
   "source": [
    "#### For XOR, Gaussian and Spiral Datasets:\n"
   ]
  },
  {
   "cell_type": "markdown",
   "metadata": {
    "deletable": true,
    "editable": true
   },
   "source": [
    "8) Repeat part 7 for the XOR dataset when the total number of weights is less than or equal to 4."
   ]
  },
  {
   "cell_type": "markdown",
   "metadata": {
    "collapsed": true,
    "deletable": true,
    "editable": true
   },
   "source": [
    "##### Features used: X1X2, sin(X1), sin(X2). No regularization was used as we have to minimize training loss and not test loss. The network thus has 3 input layers, one hidden layer. \n",
    "#### Tanh activation was used so it passes both positive and negative values. It requires about 6800 epochs for train loss to go to 0."
   ]
  },
  {
   "cell_type": "markdown",
   "metadata": {
    "deletable": true,
    "editable": true
   },
   "source": [
    "http://playground.tensorflow.org/#activation=tanh&regularization=L2&batchSize=10&dataset=xor&regDataset=reg-plane&learningRate=0.001&regularizationRate=0&noise=0&networkShape=1&seed=0.41923&showTestData=false&discretize=false&percTrainData=50&x=false&y=false&xTimesY=true&xSquared=false&ySquared=false&cosX=false&sinX=true&cosY=false&sinY=true&collectStats=false&problem=classification&initZero=false&hideText=false"
   ]
  },
  {
   "cell_type": "markdown",
   "metadata": {
    "deletable": true,
    "editable": true
   },
   "source": [
    "9) Repeat part 7 for the Gaussian dataset when the total number of weights is less than or equal to 2."
   ]
  },
  {
   "cell_type": "markdown",
   "metadata": {
    "collapsed": true,
    "deletable": true,
    "editable": true
   },
   "source": [
    "http://playground.tensorflow.org/#activation=linear&batchSize=10&dataset=gauss&regDataset=reg-plane&learningRate=0.1&regularizationRate=0&noise=0&networkShape=1&seed=0.27330&showTestData=false&discretize=false&percTrainData=50&x=false&y=true&xTimesY=false&xSquared=false&ySquared=false&cosX=false&sinX=false&cosY=false&sinY=false&collectStats=false&problem=classification&initZero=false&hideText=false"
   ]
  },
  {
   "cell_type": "markdown",
   "metadata": {},
   "source": [
    "##### As the data is linearly separable, no activation function was used. X2 feature was used as it separates the data. Train and test loss go to 0 in 100 iterations with learning rate of 0.1."
   ]
  },
  {
   "cell_type": "markdown",
   "metadata": {
    "deletable": true,
    "editable": true
   },
   "source": [
    "10) Repeat part 7 for the Spiral dataset when the total number of weights is less than or equal to 48. Any training loss less than 0.005 is accepted."
   ]
  },
  {
   "cell_type": "markdown",
   "metadata": {},
   "source": [
    "#### For input layer, all the given features were used followed by 6 neurons in the hidden layer and finally the output layer. Train loss was found to go to .005 in ~4000 epochs. No regularization was used so as to get a low train loss. Test loss was .001. Learning rate was initally set to .1 for faster learning but was eventually reduced to .001."
   ]
  },
  {
   "cell_type": "markdown",
   "metadata": {
    "collapsed": true,
    "deletable": true,
    "editable": true
   },
   "source": [
    "http://playground.tensorflow.org/#activation=tanh&batchSize=10&dataset=spiral&regDataset=reg-plane&learningRate=0.003&regularizationRate=0&noise=0&networkShape=6&seed=0.14286&showTestData=false&discretize=false&percTrainData=50&x=true&y=true&xTimesY=true&xSquared=true&ySquared=true&cosX=false&sinX=true&cosY=false&sinY=true&collectStats=false&problem=classification&initZero=false&hideText=false"
   ]
  }
 ],
 "metadata": {
  "anaconda-cloud": {},
  "kernelspec": {
   "display_name": "Python [default]",
   "language": "python",
   "name": "python3"
  },
  "language_info": {
   "codemirror_mode": {
    "name": "ipython",
    "version": 3
   },
   "file_extension": ".py",
   "mimetype": "text/x-python",
   "name": "python",
   "nbconvert_exporter": "python",
   "pygments_lexer": "ipython3",
   "version": "3.5.2"
  }
 },
 "nbformat": 4,
 "nbformat_minor": 2
}
