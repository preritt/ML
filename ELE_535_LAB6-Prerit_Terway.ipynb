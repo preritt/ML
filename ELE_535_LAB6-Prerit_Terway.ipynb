{
 "cells": [
  {
   "cell_type": "markdown",
   "metadata": {},
   "source": [
    "# ELE 435-535 LAB 6"
   ]
  },
  {
   "cell_type": "markdown",
   "metadata": {},
   "source": [
    "### Name: Prerit Terway\n",
    "### Enrollment: ELE 535"
   ]
  },
  {
   "cell_type": "markdown",
   "metadata": {},
   "source": [
    "### Import Required Packages"
   ]
  },
  {
   "cell_type": "code",
   "execution_count": 407,
   "metadata": {},
   "outputs": [],
   "source": [
    "import numpy as np\n",
    "import matplotlib.pyplot as plt\n",
    "import matplotlib.image as mpimg\n",
    "\n",
    "%matplotlib inline"
   ]
  },
  {
   "cell_type": "code",
   "execution_count": 408,
   "metadata": {},
   "outputs": [],
   "source": [
    "# Functions for packing and unpacking images\n",
    "def packcw(A,nr,nc):\n",
    "    x = (A.T).reshape(nr*nc,1)\n",
    "    return x\n",
    "\n",
    "def unpackcw(x,nr,nc):\n",
    "    A = x.reshape(nc,nr)\n",
    "    return A.T\n",
    "\n",
    "def packrw(A,nr,nc):\n",
    "    x = A.reshape(nr*nc,1)\n",
    "    return x\n",
    "\n",
    "def unpackrw(x,nr,nc):\n",
    "    A = x.reshape(nr,nc)\n",
    "    return A"
   ]
  },
  {
   "cell_type": "markdown",
   "metadata": {},
   "source": [
    "### Load Data"
   ]
  },
  {
   "cell_type": "code",
   "execution_count": 409,
   "metadata": {},
   "outputs": [
    {
     "name": "stdout",
     "output_type": "stream",
     "text": [
      "-----MNIST Dataset Loaded-----\n",
      "Train Data: 784 x 10000\n",
      "Test Data: 784 x 1000\n"
     ]
    }
   ],
   "source": [
    "# Load MNIST train and test data\n",
    "train = np.load('MNISTcwtrain1000.npy')\n",
    "train = train.astype(float)/255\n",
    "test = np.load('MNISTcwtest100.npy')\n",
    "test = test.astype(float)/255 \n",
    "# Images are normalized to [0,1]\n",
    "size = train.shape[0]\n",
    "n_train = train.shape[1]\n",
    "n_test = test.shape[1]\n",
    "\n",
    "print ('-----MNIST Dataset Loaded-----')\n",
    "print ('Train Data: %d x %d' %(size,n_train))\n",
    "print ('Test Data: %d x %d' %(size,n_test))"
   ]
  },
  {
   "cell_type": "markdown",
   "metadata": {},
   "source": [
    "## Minimum MSE Estimation of Hidden Data"
   ]
  },
  {
   "cell_type": "markdown",
   "metadata": {},
   "source": [
    "1.Compute the mean and the covariance matrix of the training data."
   ]
  },
  {
   "cell_type": "code",
   "execution_count": 410,
   "metadata": {},
   "outputs": [
    {
     "data": {
      "text/plain": [
       "(784, 784)"
      ]
     },
     "execution_count": 410,
     "metadata": {},
     "output_type": "execute_result"
    }
   ],
   "source": [
    "covariance_train = np.cov(train)\n",
    "mean_train = np.mean(train, axis=1)\n",
    "covariance_train.shape"
   ]
  },
  {
   "cell_type": "markdown",
   "metadata": {},
   "source": [
    "### Right half hidden"
   ]
  },
  {
   "cell_type": "markdown",
   "metadata": {},
   "source": [
    "2.Implement a function to hide the right half of the image (Fill 14 columns on the right with black). (Hint: Find the indices of the hidden area) "
   ]
  },
  {
   "cell_type": "code",
   "execution_count": 411,
   "metadata": {},
   "outputs": [],
   "source": [
    "def hide_columns(imageTrain, columns_to_hide):\n",
    "    hidden_image  = np.copy(imageTrain )\n",
    "    # assume image is 28*28 pixels\n",
    "    for j in columns_to_hide:\n",
    "        hidden_image[:,columns_to_hide]  = 0\n",
    "    return hidden_image"
   ]
  },
  {
   "cell_type": "markdown",
   "metadata": {},
   "source": [
    "3.Find the minimum MSE estimator $W^*$ (Note: It is recommended to implement it as a function because you will need it again for questions below)."
   ]
  },
  {
   "cell_type": "markdown",
   "metadata": {},
   "source": [
    "Full images of the training data are available. If you refer to the notes, $X$ can be considered as the given region of the image and $Y$ can be considered as the hidden region. Mean and covariance of the training data can be divided according to the indices of given and hidden pixels."
   ]
  },
  {
   "cell_type": "code",
   "execution_count": 412,
   "metadata": {},
   "outputs": [],
   "source": [
    "# Example function\n",
    "def Wstar_miss(sigma, missing_indices):\n",
    "    total_features = sigma.shape[0]\n",
    "    all_features = list(range(0, total_features))\n",
    "    present_features = np.setdiff1d(all_features,missing_indices)\n",
    "    sigma_x = sigma[np.ix_(present_features,present_features)]\n",
    "    \n",
    "    sigma_y = sigma[np.ix_(missing_indices,missing_indices)]\n",
    "    \n",
    "    sigma_xy = sigma[np.ix_(present_features,missing_indices)]\n",
    "#     plt.imshow(sigma_xy)\n",
    "    sigma_yx = sigma[np.ix_(missing_indices,present_features)]\n",
    "    Wstar = np.dot(sigma_yx,np.linalg.pinv(sigma_x))\n",
    "    \n",
    "    return Wstar"
   ]
  },
  {
   "cell_type": "markdown",
   "metadata": {},
   "source": [
    "4.Using the estimator, approximate the right half of the hidden image. Choose any 5 images in the test data and display the 1)original image, 2)hidden image, and 3)approximated image. Calculate the mean squared error for each example."
   ]
  },
  {
   "cell_type": "code",
   "execution_count": 413,
   "metadata": {},
   "outputs": [],
   "source": [
    "hidden_indices = list(range(392, 784))\n",
    "columns_to_hide = list(range(14, 28))"
   ]
  },
  {
   "cell_type": "code",
   "execution_count": 414,
   "metadata": {},
   "outputs": [],
   "source": [
    "W_star = Wstar_miss(covariance_train, hidden_indices)\n",
    "W_star = W_star.T\n",
    "ux = mean_train[list(range(0, 392))]\n",
    "uy = mean_train[hidden_indices]\n",
    "x_minus_ux = test[list(range(0, 392)),:] - ux[:,None]\n",
    "y_hat = np.dot(W_star.T,x_minus_ux) + uy[:,None]\n",
    "total_estimated = np.vstack((test[list(range(0, 392)),:],y_hat))      \n",
    "    "
   ]
  },
  {
   "cell_type": "code",
   "execution_count": 419,
   "metadata": {},
   "outputs": [],
   "source": [
    "images_chosen = np.random.randint(1,999,5)\n",
    "images_chosen_to_list = np.ndarray.tolist(images_chosen)"
   ]
  },
  {
   "cell_type": "code",
   "execution_count": 420,
   "metadata": {
    "scrolled": false
   },
   "outputs": [
    {
     "data": {
      "image/png": "[encoded data removed]",
      "text/plain": [
       "<Figure size 432x288 with 3 Axes>"
      ]
     },
     "metadata": {
      "needs_background": "light"
     },
     "output_type": "display_data"
    },
    {
     "data": {
      "image/png": "[encoded data removed]",
      "text/plain": [
       "<Figure size 432x288 with 3 Axes>"
      ]
     },
     "metadata": {
      "needs_background": "light"
     },
     "output_type": "display_data"
    },
    {
     "data": {
      "image/png": "[encoded data removed]",
      "text/plain": [
       "<Figure size 432x288 with 3 Axes>"
      ]
     },
     "metadata": {
      "needs_background": "light"
     },
     "output_type": "display_data"
    },
    {
     "data": {
      "image/png": "[encoded data removed]",
      "text/plain": [
       "<Figure size 432x288 with 3 Axes>"
      ]
     },
     "metadata": {
      "needs_background": "light"
     },
     "output_type": "display_data"
    },
    {
     "data": {
      "image/png": "[encoded data removed]",
      "text/plain": [
       "<Figure size 432x288 with 3 Axes>"
      ]
     },
     "metadata": {
      "needs_background": "light"
     },
     "output_type": "display_data"
    }
   ],
   "source": [
    "error = []\n",
    "for j in images_chosen_to_list:\n",
    "    image_chosen = np.copy(test[:,j])\n",
    "    plt.figure()\n",
    "    plt.subplot(1,3,1)\n",
    "    plt.imshow(unpackcw(image_chosen,28,28))\n",
    "    image_hidden = hide_columns(unpackcw(image_chosen,28,28), columns_to_hide)\n",
    "    plt.subplot(1,3,2)\n",
    "    plt.imshow(image_hidden)\n",
    "    plt.subplot(1,3,3)\n",
    "    estimated_image = total_estimated[:,j]\n",
    "    plt.imshow(unpackcw(estimated_image,28,28))\n",
    "    mse_this_eg =  ((estimated_image - image_chosen)**2).mean(axis=None)\n",
    "    error.append(mse_this_eg)"
   ]
  },
  {
   "cell_type": "code",
   "execution_count": 421,
   "metadata": {},
   "outputs": [
    {
     "name": "stdout",
     "output_type": "stream",
     "text": [
      "MSE for the above images are [0.010375489262372306, 0.021075459012491457, 0.01232785075039892, 0.02372827032743587, 0.02450935074015831]\n"
     ]
    }
   ],
   "source": [
    "print(\"MSE for the above images are\",error)"
   ]
  },
  {
   "cell_type": "markdown",
   "metadata": {},
   "source": [
    "5.Hide different amount of area (hide 0~28 columns) then compute the MSE for each approximated image (Use the first test image). Plot the MSE versus number of columns hidden."
   ]
  },
  {
   "cell_type": "code",
   "execution_count": 422,
   "metadata": {},
   "outputs": [],
   "source": [
    "error = []\n",
    "for j in range(0,28):\n",
    "    hidden_indices = list(range(784-j*28, 784))\n",
    "    W_star = Wstar_miss(covariance_train, hidden_indices)\n",
    "    W_star = W_star.T\n",
    "    ux = mean_train[list(range(0, 784-j*28))]\n",
    "    uy = mean_train[hidden_indices]\n",
    "    x_minus_ux = test[list(range(0, 784-j*28)),:] - ux[:,None]\n",
    "    y_hat = np.dot(W_star.T,x_minus_ux) + uy[:,None]\n",
    "    total_estimated = np.vstack((test[list(range(0, 784-j*28)),:],y_hat))\n",
    "    image_chosen = np.copy(test[:,0])\n",
    "    estimated_image = total_estimated[:,0]\n",
    "    mse_this_eg =  ((estimated_image - image_chosen)**2).mean(axis=None)\n",
    "    error.append(mse_this_eg)"
   ]
  },
  {
   "cell_type": "code",
   "execution_count": 423,
   "metadata": {},
   "outputs": [
    {
     "data": {
      "image/png": "[encoded data removed]",
      "text/plain": [
       "<Figure size 432x288 with 1 Axes>"
      ]
     },
     "metadata": {
      "needs_background": "light"
     },
     "output_type": "display_data"
    }
   ],
   "source": [
    "plt.figure()\n",
    "plt.plot(list(range(0,28)), error, color = (0,0,1))\n",
    "plt.title('MSE vs Missing Columns')\n",
    "plt.xlabel(\"Missing Column\")\n",
    "plt.ylabel(\"MSE\")\n",
    "plt.show()"
   ]
  },
  {
   "cell_type": "markdown",
   "metadata": {},
   "source": [
    "### Center hidden"
   ]
  },
  {
   "cell_type": "markdown",
   "metadata": {},
   "source": [
    "6.Implement a function to hide the center of the image (Fill 8x8 square in the center with black). (Hint: Find the indices of the hidden area) "
   ]
  },
  {
   "cell_type": "code",
   "execution_count": 424,
   "metadata": {},
   "outputs": [],
   "source": [
    "def hide_center(imageTrain, central_region):\n",
    "    hidden_image  = np.copy(imageTrain )\n",
    "    center = 14\n",
    "    hidden_image[center-central_region:center+central_region,center-central_region:center+central_region]  = 0\n",
    "    return hidden_image"
   ]
  },
  {
   "cell_type": "markdown",
   "metadata": {},
   "source": [
    "7.Find the minimum MSE estimator $W^*$."
   ]
  },
  {
   "cell_type": "code",
   "execution_count": 425,
   "metadata": {},
   "outputs": [],
   "source": [
    "# Example function\n",
    "def Wstar_miss2(sigma, missing_indices):\n",
    "    total_features = sigma.shape[0]\n",
    "    all_features = list(range(0, total_features))\n",
    "    present_features = np.setdiff1d(all_features,missing_indices)\n",
    "    sigma_x = sigma[np.ix_(present_features,present_features)]\n",
    "    \n",
    "    sigma_y = sigma[np.ix_(missing_indices,missing_indices)]\n",
    "    \n",
    "    sigma_xy = sigma[np.ix_(present_features,missing_indices)]\n",
    "#     plt.imshow(sigma_xy)\n",
    "    sigma_yx = sigma[np.ix_(missing_indices,present_features)]\n",
    "    Wstar = np.dot(sigma_yx,np.linalg.pinv(sigma_x))\n",
    "    \n",
    "    return Wstar"
   ]
  },
  {
   "cell_type": "markdown",
   "metadata": {},
   "source": [
    "8.Using the estimator, approximate the center of the hidden image. Choose any 5 images in the test data and display the 1)original image, 2)hidden image, and 3)approximated image. Calculate the MSE for each example."
   ]
  },
  {
   "cell_type": "code",
   "execution_count": 426,
   "metadata": {},
   "outputs": [],
   "source": [
    "temp_image = np.zeros((28,28))\n",
    "center = 14\n",
    "central_region = 4\n",
    "temp_image[center-central_region:center+central_region,center-central_region:center+central_region]  = 1\n",
    "# plt.imshow(temp_image)\n",
    "temp2 = temp_image.flatten('F')\n",
    "\n",
    "hidden_indices = np.where(temp2==1)"
   ]
  },
  {
   "cell_type": "code",
   "execution_count": 427,
   "metadata": {
    "scrolled": true
   },
   "outputs": [],
   "source": [
    "all_features = list(range(0, 784))\n",
    "# all_features"
   ]
  },
  {
   "cell_type": "code",
   "execution_count": 428,
   "metadata": {},
   "outputs": [],
   "source": [
    "present_features = np.setdiff1d(all_features,hidden_indices)\n",
    "# present_features"
   ]
  },
  {
   "cell_type": "code",
   "execution_count": 429,
   "metadata": {},
   "outputs": [],
   "source": [
    "hidden_indices = np.ndarray.tolist(hidden_indices[0])"
   ]
  },
  {
   "cell_type": "code",
   "execution_count": 430,
   "metadata": {},
   "outputs": [],
   "source": [
    "W_star = Wstar_miss(covariance_train, hidden_indices)\n",
    "W_star = W_star.T\n",
    "ux = mean_train[present_features]\n",
    "uy = mean_train[hidden_indices]\n",
    "x_minus_ux = test[present_features,:] - ux[:,None]\n",
    "y_hat = np.dot(W_star.T,x_minus_ux) + uy[:,None]\n",
    "y_predicted_combined = np.zeros_like(test)\n",
    "y_predicted_combined[present_features,:] = test[present_features,:]\n",
    "y_predicted_combined[hidden_indices,:] = y_hat\n",
    "\n",
    "# total_estimated = np.vstack((test[list(range(0, 392)),:],y_hat))      \n",
    "    "
   ]
  },
  {
   "cell_type": "code",
   "execution_count": 432,
   "metadata": {},
   "outputs": [
    {
     "data": {
      "image/png": "[encoded data removed]",
      "text/plain": [
       "<Figure size 432x288 with 3 Axes>"
      ]
     },
     "metadata": {
      "needs_background": "light"
     },
     "output_type": "display_data"
    },
    {
     "data": {
      "image/png": "[encoded data removed]",
      "text/plain": [
       "<Figure size 432x288 with 3 Axes>"
      ]
     },
     "metadata": {
      "needs_background": "light"
     },
     "output_type": "display_data"
    },
    {
     "data": {
      "image/png": "[encoded data removed]",
      "text/plain": [
       "<Figure size 432x288 with 3 Axes>"
      ]
     },
     "metadata": {
      "needs_background": "light"
     },
     "output_type": "display_data"
    },
    {
     "data": {
      "image/png": "[encoded data removed]",
      "text/plain": [
       "<Figure size 432x288 with 3 Axes>"
      ]
     },
     "metadata": {
      "needs_background": "light"
     },
     "output_type": "display_data"
    },
    {
     "data": {
      "image/png": "[encoded data removed]",
      "text/plain": [
       "<Figure size 432x288 with 3 Axes>"
      ]
     },
     "metadata": {
      "needs_background": "light"
     },
     "output_type": "display_data"
    }
   ],
   "source": [
    "# Example output\n",
    "# images_chosen = np.random.randint(1,999,5)\n",
    "# images_chosen_to_list = np.ndarray.tolist(images_chosen)\n",
    "error = []\n",
    "for j in images_chosen_to_list:\n",
    "    image_chosen = np.copy(test[:,j])\n",
    "    plt.figure()\n",
    "    plt.subplot(1,3,1)\n",
    "    plt.imshow(unpackcw(image_chosen,28,28))\n",
    "    image_hidden = hide_center(unpackcw(image_chosen,28,28), 4)\n",
    "    plt.subplot(1,3,2)\n",
    "    plt.imshow(image_hidden)\n",
    "    estimated_image = y_predicted_combined[:,j]\n",
    "    plt.subplot(1,3,3)\n",
    "    plt.imshow(unpackcw(estimated_image,28,28))\n",
    "    mse_this_eg =  ((estimated_image - image_chosen)**2).mean(axis=None)\n",
    "    error.append(mse_this_eg)\n",
    "#     print('MSE is',mse_this_eg)\n",
    "#     plt.colorbar()"
   ]
  },
  {
   "cell_type": "code",
   "execution_count": 433,
   "metadata": {},
   "outputs": [
    {
     "name": "stdout",
     "output_type": "stream",
     "text": [
      "MSE for the above images are [0.005891418767018465, 0.006187637018911118, 0.002712800207264896, 0.008787248160474109, 0.007426839202754425]\n"
     ]
    }
   ],
   "source": [
    "print(\"MSE for the above images are\",error)"
   ]
  },
  {
   "cell_type": "markdown",
   "metadata": {},
   "source": [
    "9.Use the least square method to approximate the center pixels for same images in question 8. "
   ]
  },
  {
   "cell_type": "markdown",
   "metadata": {},
   "source": [
    "\\begin{equation}\n",
    "\\arg \\min_{W\\in\\mathbb{R}^{64x(784-64)}} \\sum_{i=1}^{n}\\|y_i-W x_i\\|_2^2\n",
    "\\end{equation}\n",
    "\\begin{equation}\n",
    "y_i \\in \\mathbb{R}^{64}, \\hspace{5mm} x_i \\in \\mathbb{R}^{(784-64)}\n",
    "\\end{equation}\n",
    "\n",
    "$y_i$ is the vector of 64 hidden pixels, $x_i$ is the rest of the pixels given, and $n$ is the total number of samples for the digit.\n",
    "\n",
    "Calculate the MSE for each example (for the same images)."
   ]
  },
  {
   "cell_type": "code",
   "execution_count": 434,
   "metadata": {},
   "outputs": [],
   "source": [
    "X = np.matrix(train[present_features,:])\n",
    "y = np.matrix(train[hidden_indices,:])\n",
    "F = X.T\n",
    "y_f = y.T\n",
    "u, s, vh = np.linalg.svd(F, full_matrices=False)\n",
    "s = np.diag(1/s)\n",
    "Wtemp = np.matmul(vh.T,s)\n",
    "Wtemp2 = np.matmul(Wtemp,u.T)\n",
    "W = np.matmul(Wtemp2,y_f)"
   ]
  },
  {
   "cell_type": "code",
   "execution_count": 440,
   "metadata": {},
   "outputs": [],
   "source": [
    "# W.shape"
   ]
  },
  {
   "cell_type": "code",
   "execution_count": 439,
   "metadata": {},
   "outputs": [],
   "source": [
    "x_test = np.matrix(test[present_features,:])\n",
    "# x_test.shape"
   ]
  },
  {
   "cell_type": "code",
   "execution_count": 438,
   "metadata": {},
   "outputs": [],
   "source": [
    "y_tilda = np.matmul(x_test.T,W)\n",
    "# y_tilda.shape"
   ]
  },
  {
   "cell_type": "code",
   "execution_count": 441,
   "metadata": {},
   "outputs": [
    {
     "data": {
      "text/plain": [
       "(784, 1000)"
      ]
     },
     "execution_count": 441,
     "metadata": {},
     "output_type": "execute_result"
    }
   ],
   "source": [
    "test.shape"
   ]
  },
  {
   "cell_type": "code",
   "execution_count": 442,
   "metadata": {},
   "outputs": [],
   "source": [
    "y_predicted_combined_ls = np.zeros_like(test)\n",
    "y_predicted_combined_ls[present_features,:] = test[present_features,:]\n",
    "y_predicted_combined_ls[hidden_indices,:] = y_tilda.T"
   ]
  },
  {
   "cell_type": "code",
   "execution_count": 444,
   "metadata": {},
   "outputs": [
    {
     "data": {
      "image/png": "[encoded data removed]",
      "text/plain": [
       "<Figure size 432x288 with 3 Axes>"
      ]
     },
     "metadata": {
      "needs_background": "light"
     },
     "output_type": "display_data"
    },
    {
     "data": {
      "image/png": "[encoded data removed]",
      "text/plain": [
       "<Figure size 432x288 with 3 Axes>"
      ]
     },
     "metadata": {
      "needs_background": "light"
     },
     "output_type": "display_data"
    },
    {
     "data": {
      "image/png": "[encoded data removed]",
      "text/plain": [
       "<Figure size 432x288 with 3 Axes>"
      ]
     },
     "metadata": {
      "needs_background": "light"
     },
     "output_type": "display_data"
    },
    {
     "data": {
      "image/png": "[encoded data removed]",
      "text/plain": [
       "<Figure size 432x288 with 3 Axes>"
      ]
     },
     "metadata": {
      "needs_background": "light"
     },
     "output_type": "display_data"
    },
    {
     "data": {
      "image/png": "[encoded data removed]",
      "text/plain": [
       "<Figure size 432x288 with 3 Axes>"
      ]
     },
     "metadata": {
      "needs_background": "light"
     },
     "output_type": "display_data"
    }
   ],
   "source": [
    "error = []\n",
    "for j in images_chosen_to_list:\n",
    "    image_chosen = np.copy(test[:,j])\n",
    "    plt.figure()\n",
    "    plt.subplot(1,3,1)\n",
    "    plt.imshow(unpackcw(image_chosen,28,28))\n",
    "    image_hidden = hide_center(unpackcw(image_chosen,28,28), 4)\n",
    "    plt.subplot(1,3,2)\n",
    "    plt.imshow(image_hidden)\n",
    "    plt.subplot(1,3,3)\n",
    "#     estimated_image = \n",
    "    estimated_image = y_predicted_combined_ls[:,j]\n",
    "\n",
    "    plt.imshow(unpackcw(estimated_image,28,28))\n",
    "    mse_this_eg =  ((estimated_image - image_chosen)**2).mean(axis=None)\n",
    "    error.append(mse_this_eg)"
   ]
  },
  {
   "cell_type": "code",
   "execution_count": 445,
   "metadata": {},
   "outputs": [
    {
     "name": "stdout",
     "output_type": "stream",
     "text": [
      "MSE for the above images are [0.005950156557041532, 0.006744338544864667, 0.002879303898587069, 0.009379394494728792, 0.007786511643477478]\n"
     ]
    }
   ],
   "source": [
    "print(\"MSE for the above images are\",error)"
   ]
  },
  {
   "cell_type": "markdown",
   "metadata": {
    "collapsed": true
   },
   "source": [
    "10.Suppose you have a test data with hidden centers (8x8 square). Approximate the hidden area of each image then use the nearest class mean classifier to classify the test data. Compare the accuracy with the experiment from HW1, which had an accuracy of 76.7%."
   ]
  },
  {
   "cell_type": "code",
   "execution_count": 446,
   "metadata": {},
   "outputs": [],
   "source": [
    "mean_train_lse = np.zeros((train.shape[0],10))\n",
    "k = 0\n",
    "for j in range(0,train.shape[1],1000):\n",
    "    this_digit_data = train[:,j:j+1000]\n",
    "    mean_train_lse[:,k] = np.mean(this_digit_data,axis=1)\n",
    "    k+=1"
   ]
  },
  {
   "cell_type": "code",
   "execution_count": 447,
   "metadata": {},
   "outputs": [],
   "source": [
    "correct_test_label = [] \n",
    "for j in range (0,10):\n",
    "    correct_test_label += [j]*100\n",
    "# correct_test_label"
   ]
  },
  {
   "cell_type": "code",
   "execution_count": 448,
   "metadata": {},
   "outputs": [],
   "source": [
    "approximated_data_mmse = y_predicted_combined\n",
    "predicted_test_labels = np.zeros((test.shape[1]))\n",
    "error = 0\n",
    "for j in range(0,test.shape[1]):\n",
    "    this_test = approximated_data_mmse[:,j]\n",
    "    error_for_all_labels = np.power(mean_train_lse - this_test[:,None],2)\n",
    "    normed_error_sq = error_for_all_labels.sum(axis = 0)\n",
    "#     print(np.argmin(normed_error_sq))\n",
    "    predicted_test_labels[j] = np.argmin(normed_error_sq)"
   ]
  },
  {
   "cell_type": "code",
   "execution_count": 449,
   "metadata": {},
   "outputs": [
    {
     "data": {
      "text/plain": [
       "0.702"
      ]
     },
     "execution_count": 449,
     "metadata": {},
     "output_type": "execute_result"
    }
   ],
   "source": [
    "test_accuracy = sum(predicted_test_labels == correct_test_label)/len(correct_test_label)\n",
    "test_accuracy"
   ]
  },
  {
   "cell_type": "code",
   "execution_count": 450,
   "metadata": {},
   "outputs": [
    {
     "name": "stdout",
     "output_type": "stream",
     "text": [
      "test accuracy with hidden region is  0.702\n"
     ]
    }
   ],
   "source": [
    "print(\"test accuracy with hidden region is \", test_accuracy)"
   ]
  },
  {
   "cell_type": "markdown",
   "metadata": {},
   "source": [
    "## This accuracy is lower than HW1 which is expected as we are removing information from the test data"
   ]
  },
  {
   "cell_type": "markdown",
   "metadata": {},
   "source": [
    "11.Try changing the hidden area (4x4,8x8,12x12,16x16,20x20) and check the accuracy of the classificaiton using the nearest class mean classifier. Plot the accuracy versus hidden area."
   ]
  },
  {
   "cell_type": "code",
   "execution_count": 451,
   "metadata": {},
   "outputs": [
    {
     "data": {
      "text/plain": [
       "(720,)"
      ]
     },
     "execution_count": 451,
     "metadata": {},
     "output_type": "execute_result"
    }
   ],
   "source": [
    "# present_features\n",
    "ux = mean_train[present_features]\n",
    "uy = mean_train[hidden_indices]\n",
    "ux.shape"
   ]
  },
  {
   "cell_type": "code",
   "execution_count": 389,
   "metadata": {},
   "outputs": [
    {
     "name": "stdout",
     "output_type": "stream",
     "text": [
      "0.754\n",
      "0.702\n",
      "0.645\n",
      "0.534\n",
      "0.337\n"
     ]
    }
   ],
   "source": [
    "accuracy = []\n",
    "hidden_areas = [2,4,6,8,10]\n",
    "for hidden_from_center in hidden_areas:\n",
    "    temp_image = np.zeros((28,28))\n",
    "    center = 14\n",
    "    central_region = hidden_from_center\n",
    "    temp_image[center-central_region:center+central_region,center-central_region:center+central_region]  = 1\n",
    "    temp2 = temp_image.flatten('F')\n",
    "    hidden_indices = np.where(temp2==1)\n",
    "    present_features = np.setdiff1d(all_features,hidden_indices)\n",
    "    hidden_indices = np.ndarray.tolist(hidden_indices[0])\n",
    "    W_star = Wstar_miss(covariance_train, hidden_indices)\n",
    "    W_star = W_star.T\n",
    "    ux = mean_train[present_features]\n",
    "    uy = mean_train[hidden_indices]\n",
    "    x_minus_ux = test[present_features,:] - ux[:,None]\n",
    "    y_hat = np.dot(W_star.T,x_minus_ux) + uy[:,None]\n",
    "    y_predicted_combined = np.zeros_like(test)\n",
    "    y_predicted_combined[present_features,:] = test[present_features,:]\n",
    "    y_predicted_combined[hidden_indices,:] = y_hat\n",
    "    \n",
    "    approximated_data_mmse = y_predicted_combined\n",
    "    predicted_test_labels = np.zeros((test.shape[1]))\n",
    "    error = 0\n",
    "    for j in range(0,test.shape[1]):\n",
    "        this_test = approximated_data_mmse[:,j]\n",
    "        error_for_all_labels = np.power(mean_train_lse - this_test[:,None],2)\n",
    "        normed_error_sq = error_for_all_labels.sum(axis = 0)\n",
    "    #     print(np.argmin(normed_error_sq))\n",
    "        predicted_test_labels[j] = np.argmin(normed_error_sq)\n",
    "#         print(predicted_test_labels[j])\n",
    "    test_accuracy = sum(predicted_test_labels == correct_test_label)/len(correct_test_label)\n",
    "    print(test_accuracy)\n",
    "    accuracy.append(test_accuracy)"
   ]
  },
  {
   "cell_type": "code",
   "execution_count": 452,
   "metadata": {},
   "outputs": [
    {
     "data": {
      "image/png": "[encoded data removed]",
      "text/plain": [
       "<Figure size 432x288 with 1 Axes>"
      ]
     },
     "metadata": {
      "needs_background": "light"
     },
     "output_type": "display_data"
    }
   ],
   "source": [
    "plt.plot(np.asarray(hidden_areas),accuracy)\n",
    "plt.title('MSE vs Missing Central Region')\n",
    "plt.xlabel(\"Missing Region\")\n",
    "plt.ylabel(\"accuracy\")\n",
    "plt.show()"
   ]
  }
 ],
 "metadata": {
  "anaconda-cloud": {},
  "kernelspec": {
   "display_name": "Python 3",
   "language": "python",
   "name": "python3"
  },
  "language_info": {
   "codemirror_mode": {
    "name": "ipython",
    "version": 3
   },
   "file_extension": ".py",
   "mimetype": "text/x-python",
   "name": "python",
   "nbconvert_exporter": "python",
   "pygments_lexer": "ipython3",
   "version": "3.7.0"
  }
 },
 "nbformat": 4,
 "nbformat_minor": 1
}
